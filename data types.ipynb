{
 "cells": [
  {
   "cell_type": "code",
   "execution_count": 4,
   "id": "bed41301",
   "metadata": {},
   "outputs": [
    {
     "data": {
      "text/plain": [
       "int"
      ]
     },
     "execution_count": 4,
     "metadata": {},
     "output_type": "execute_result"
    }
   ],
   "source": [
    "x=10\n",
    "type(x)"
   ]
  },
  {
   "cell_type": "code",
   "execution_count": 5,
   "id": "d53fbc86",
   "metadata": {},
   "outputs": [
    {
     "data": {
      "text/plain": [
       "complex"
      ]
     },
     "execution_count": 5,
     "metadata": {},
     "output_type": "execute_result"
    }
   ],
   "source": [
    "x=2+3j\n",
    "type(x)"
   ]
  },
  {
   "cell_type": "code",
   "execution_count": 7,
   "id": "1492378c",
   "metadata": {},
   "outputs": [
    {
     "data": {
      "text/plain": [
       "bool"
      ]
     },
     "execution_count": 7,
     "metadata": {},
     "output_type": "execute_result"
    }
   ],
   "source": [
    "x=True\n",
    "type(x)"
   ]
  },
  {
   "cell_type": "code",
   "execution_count": 8,
   "id": "b5fb7b37",
   "metadata": {},
   "outputs": [
    {
     "data": {
      "text/plain": [
       "bool"
      ]
     },
     "execution_count": 8,
     "metadata": {},
     "output_type": "execute_result"
    }
   ],
   "source": [
    "X=False\n",
    "type(x)"
   ]
  },
  {
   "cell_type": "code",
   "execution_count": 9,
   "id": "bc758a77",
   "metadata": {},
   "outputs": [
    {
     "data": {
      "text/plain": [
       "float"
      ]
     },
     "execution_count": 9,
     "metadata": {},
     "output_type": "execute_result"
    }
   ],
   "source": [
    "x=10.30\n",
    "type(x)"
   ]
  },
  {
   "cell_type": "code",
   "execution_count": 10,
   "id": "35e3bfea",
   "metadata": {},
   "outputs": [
    {
     "data": {
      "text/plain": [
       "str"
      ]
     },
     "execution_count": 10,
     "metadata": {},
     "output_type": "execute_result"
    }
   ],
   "source": [
    "x=\"hello world\"\n",
    "type(x)"
   ]
  },
  {
   "cell_type": "code",
   "execution_count": 11,
   "id": "0a5e7476",
   "metadata": {},
   "outputs": [
    {
     "name": "stdout",
     "output_type": "stream",
     "text": [
      "b'\\x00\\x00\\x00\\x00\\x00\\x00'\n",
      "<class 'bytes'>\n"
     ]
    }
   ],
   "source": [
    "x=bytes(6)\n",
    "print(x)\n",
    "print(type(x))"
   ]
  },
  {
   "cell_type": "code",
   "execution_count": 12,
   "id": "30239199",
   "metadata": {},
   "outputs": [
    {
     "name": "stdout",
     "output_type": "stream",
     "text": [
      "bytearray(b'\\x00\\x00\\x00\\x00\\x00\\x00')\n",
      "<class 'bytearray'>\n"
     ]
    }
   ],
   "source": [
    "x=bytearray(6)\n",
    "print(x)\n",
    "print(type(x))"
   ]
  },
  {
   "cell_type": "code",
   "execution_count": 13,
   "id": "b8dedfae",
   "metadata": {},
   "outputs": [
    {
     "name": "stdout",
     "output_type": "stream",
     "text": [
      "None\n",
      "<class 'NoneType'>\n"
     ]
    }
   ],
   "source": [
    "x=None\n",
    "print(x)\n",
    "print(type(x))"
   ]
  },
  {
   "cell_type": "code",
   "execution_count": 14,
   "id": "88677228",
   "metadata": {},
   "outputs": [
    {
     "name": "stdout",
     "output_type": "stream",
     "text": [
      "<class 'memoryview'>\n",
      "<class 'type'>\n"
     ]
    }
   ],
   "source": [
    "x=memoryview\n",
    "print(x)\n",
    "print(type(x))"
   ]
  },
  {
   "cell_type": "code",
   "execution_count": 15,
   "id": "d95448a7",
   "metadata": {},
   "outputs": [
    {
     "name": "stdout",
     "output_type": "stream",
     "text": [
      "data type of num_int: <class 'int'>\n",
      "data type of num_flo: <class 'float'>\n",
      "data type of num_new: <class 'float'>\n",
      "value of num_new: 124.23\n"
     ]
    }
   ],
   "source": [
    "num_int=123\n",
    "num_flo=1.23\n",
    "num_new=num_int+num_flo\n",
    "print(\"data type of num_int:\",type(num_int))\n",
    "print(\"data type of num_flo:\",type(num_flo))\n",
    "print(\"data type of num_new:\",type(num_new))\n",
    "print(\"value of num_new:\",num_new)"
   ]
  },
  {
   "cell_type": "code",
   "execution_count": 16,
   "id": "3fc0d528",
   "metadata": {},
   "outputs": [
    {
     "name": "stdout",
     "output_type": "stream",
     "text": [
      "x+y= 19\n",
      "x-y= 11\n",
      "x*y= 60\n",
      "x/y= 3.75\n",
      "x//y= 3\n",
      "x**y= 50625\n"
     ]
    }
   ],
   "source": [
    "x=15\n",
    "y=4\n",
    "print('x+y=',x+y)\n",
    "print('x-y=',x-y)\n",
    "print('x*y=',x*y)\n",
    "print('x/y=',x/y)\n",
    "print('x//y=',x//y)\n",
    "print('x**y=',x**y)"
   ]
  },
  {
   "cell_type": "code",
   "execution_count": 17,
   "id": "ad914a26",
   "metadata": {},
   "outputs": [
    {
     "name": "stdout",
     "output_type": "stream",
     "text": [
      "x>y is False\n",
      "x<y is True\n",
      "x==y is False\n",
      "x!=y is True\n",
      "x>=y is False\n",
      "x<=y is True\n"
     ]
    }
   ],
   "source": [
    "x=10\n",
    "y=12\n",
    "print('x>y is',x>y)\n",
    "print('x<y is',x<y)\n",
    "print('x==y is',x==y)\n",
    "print('x!=y is',x!=y)\n",
    "print('x>=y is',x>=y)\n",
    "print('x<=y is',x<=y)"
   ]
  },
  {
   "cell_type": "code",
   "execution_count": 18,
   "id": "f32cf98d",
   "metadata": {},
   "outputs": [
    {
     "name": "stdout",
     "output_type": "stream",
     "text": [
      "Test\n"
     ]
    }
   ],
   "source": [
    "s=\"Testbook\"\n",
    "print(s[0:4])\n"
   ]
  },
  {
   "cell_type": "code",
   "execution_count": 19,
   "id": "83aeaa1a",
   "metadata": {},
   "outputs": [
    {
     "name": "stdout",
     "output_type": "stream",
     "text": [
      "TESTBOOK\n",
      "testbook\n"
     ]
    }
   ],
   "source": [
    "s=\"Testbook\"\n",
    "print(s.upper())\n",
    "print(s.lower())"
   ]
  },
  {
   "cell_type": "code",
   "execution_count": 20,
   "id": "51c02031",
   "metadata": {},
   "outputs": [
    {
     "name": "stdout",
     "output_type": "stream",
     "text": [
      "1\n"
     ]
    }
   ],
   "source": [
    "s=\"testbook\"\n",
    "print(s.find('e'))"
   ]
  },
  {
   "cell_type": "code",
   "execution_count": 21,
   "id": "bee627f3",
   "metadata": {},
   "outputs": [
    {
     "name": "stdout",
     "output_type": "stream",
     "text": [
      "True\n"
     ]
    }
   ],
   "source": [
    "s=\"testbook\"\n",
    "print(s.isalpha())"
   ]
  },
  {
   "cell_type": "code",
   "execution_count": 22,
   "id": "1c43ce0f",
   "metadata": {},
   "outputs": [
    {
     "name": "stdout",
     "output_type": "stream",
     "text": [
      "bestbook\n"
     ]
    }
   ],
   "source": [
    "s=\"testbook\"\n",
    "print(s.replace('t','b',1))"
   ]
  },
  {
   "cell_type": "code",
   "execution_count": 23,
   "id": "df96821f",
   "metadata": {},
   "outputs": [
    {
     "name": "stdout",
     "output_type": "stream",
     "text": [
      "Testbook\n"
     ]
    }
   ],
   "source": [
    "s=\"testbook\"\n",
    "print(s.title())"
   ]
  },
  {
   "cell_type": "code",
   "execution_count": null,
   "id": "c1030776",
   "metadata": {},
   "outputs": [],
   "source": []
  }
 ],
 "metadata": {
  "kernelspec": {
   "display_name": "Python 3 (ipykernel)",
   "language": "python",
   "name": "python3"
  },
  "language_info": {
   "codemirror_mode": {
    "name": "ipython",
    "version": 3
   },
   "file_extension": ".py",
   "mimetype": "text/x-python",
   "name": "python",
   "nbconvert_exporter": "python",
   "pygments_lexer": "ipython3",
   "version": "3.10.9"
  }
 },
 "nbformat": 4,
 "nbformat_minor": 5
}
