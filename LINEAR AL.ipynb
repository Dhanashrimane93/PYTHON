{
 "cells": [
  {
   "cell_type": "code",
   "execution_count": null,
   "id": "cefb9075",
   "metadata": {},
   "outputs": [],
   "source": [
    "# solving linear algebra\n",
    "# 2x+3y=20\n",
    "#5x-4y=27"
   ]
  },
  {
   "cell_type": "code",
   "execution_count": 1,
   "id": "3ad54a89",
   "metadata": {},
   "outputs": [],
   "source": [
    "import numpy as np"
   ]
  },
  {
   "cell_type": "code",
   "execution_count": 2,
   "id": "85c4986b",
   "metadata": {},
   "outputs": [
    {
     "name": "stdout",
     "output_type": "stream",
     "text": [
      "[7. 2.]\n"
     ]
    }
   ],
   "source": [
    "a=np.array([[2,3],[5,-4]]) #[2x+3y][5x-4y]\n",
    "b=np.array([20,27])        #[20,27]\n",
    "res=np.linalg.solve(a,b)\n",
    "print(res)"
   ]
  },
  {
   "cell_type": "code",
   "execution_count": 3,
   "id": "bd7f27b6",
   "metadata": {},
   "outputs": [
    {
     "name": "stdout",
     "output_type": "stream",
     "text": [
      "[-0.58226371  3.22870478 -1.98599767]\n"
     ]
    }
   ],
   "source": [
    "# solving linear equation with 3 unknown and 3 equation\n",
    "\n",
    "# 8x+3y-2z=9\n",
    "#-4x+7y+5z=15\n",
    "#3x+4y-12z=35\n",
    "\n",
    "a=np.array([[8,3,-2],[-4,7,5],[3,4,-12]])\n",
    "b=np.array([9,15,35])\n",
    "x=np.linalg.solve(a,b)\n",
    "print(x)"
   ]
  },
  {
   "cell_type": "code",
   "execution_count": 9,
   "id": "d4f0e237",
   "metadata": {},
   "outputs": [
    {
     "name": "stdout",
     "output_type": "stream",
     "text": [
      "(3, 3)\n",
      "[[9 5 2]\n",
      " [1 8 5]\n",
      " [3 1 6]]\n"
     ]
    }
   ],
   "source": [
    "# Dot product\n",
    "\n",
    "a=np.array([[9,5,2],[1,8,5],[3,1,6]])\n",
    "print(a.shape)\n",
    "print(a)\n",
    "\n"
   ]
  },
  {
   "cell_type": "code",
   "execution_count": 5,
   "id": "e486cfa4",
   "metadata": {},
   "outputs": [
    {
     "name": "stdout",
     "output_type": "stream",
     "text": [
      "(3, 2)\n"
     ]
    }
   ],
   "source": [
    "b=np.array([[3,2],[1,4],[5,3]])\n",
    "print(b.shape)"
   ]
  },
  {
   "cell_type": "code",
   "execution_count": 8,
   "id": "7d334907",
   "metadata": {},
   "outputs": [
    {
     "name": "stdout",
     "output_type": "stream",
     "text": [
      "[[42 44]\n",
      " [36 49]\n",
      " [40 28]]\n",
      "(3, 2)\n",
      "[[42 44]\n",
      " [36 49]\n",
      " [40 28]]\n",
      "(3, 2)\n"
     ]
    }
   ],
   "source": [
    "res1=np.dot(a,b)\n",
    "res2=np.matmul(a,b)\n",
    "print(res1)\n",
    "print(res1.shape)\n",
    "print(res2)\n",
    "print(res2.shape)"
   ]
  },
  {
   "cell_type": "code",
   "execution_count": 15,
   "id": "c349c3a2",
   "metadata": {},
   "outputs": [
    {
     "name": "stdout",
     "output_type": "stream",
     "text": [
      "[[2 3]\n",
      " [1 2]]\n",
      "(2, 2)\n"
     ]
    }
   ],
   "source": [
    "# matrix inverse\n",
    "\n",
    "q=np.array([[2,3],[1,2]])\n",
    "print(q)\n",
    "print(q.shape)"
   ]
  },
  {
   "cell_type": "code",
   "execution_count": 16,
   "id": "82cc87f6",
   "metadata": {},
   "outputs": [
    {
     "name": "stdout",
     "output_type": "stream",
     "text": [
      "[[ 2. -3.]\n",
      " [-1.  2.]]\n"
     ]
    }
   ],
   "source": [
    "q_inv=np.linalg.inv(q)\n",
    "print(q_inv)"
   ]
  },
  {
   "cell_type": "code",
   "execution_count": 17,
   "id": "9fa16de3",
   "metadata": {},
   "outputs": [
    {
     "name": "stdout",
     "output_type": "stream",
     "text": [
      "[[1. 0.]\n",
      " [0. 1.]]\n"
     ]
    }
   ],
   "source": [
    "r1=np.dot(q,q_inv)\n",
    "print(r1)"
   ]
  },
  {
   "cell_type": "code",
   "execution_count": 20,
   "id": "00c8d539",
   "metadata": {},
   "outputs": [
    {
     "name": "stdout",
     "output_type": "stream",
     "text": [
      "[[5 3]\n",
      " [2 4]]\n",
      "det of w is 14\n"
     ]
    }
   ],
   "source": [
    "w=np.array([[5,3],[2,4]])\n",
    "print(w) #5*4-2*3=20-6=14\n",
    "det=np.linalg.det(w)\n",
    "print('det of w is',round(det))"
   ]
  },
  {
   "cell_type": "code",
   "execution_count": 25,
   "id": "94e13028",
   "metadata": {},
   "outputs": [
    {
     "name": "stdout",
     "output_type": "stream",
     "text": [
      "-2399.999999999998\n"
     ]
    }
   ],
   "source": [
    "a=np.array([[30,31,40],[41,50,51],[60,61,70]])\n",
    "print(np.linalg.det(a))"
   ]
  },
  {
   "cell_type": "code",
   "execution_count": 26,
   "id": "d882b3ce",
   "metadata": {},
   "outputs": [
    {
     "name": "stdout",
     "output_type": "stream",
     "text": [
      "\n",
      "trace of a: 30\n"
     ]
    }
   ],
   "source": [
    "a=np.array([[20,10],[50,10]])\n",
    "print(\"\\ntrace of a:\",np.trace(a))"
   ]
  },
  {
   "cell_type": "code",
   "execution_count": 27,
   "id": "9b7ec688",
   "metadata": {},
   "outputs": [
    {
     "data": {
      "text/plain": [
       "(3, 2)"
      ]
     },
     "execution_count": 27,
     "metadata": {},
     "output_type": "execute_result"
    }
   ],
   "source": [
    "a=np.array([[-3,2,-5],[2,-3,4],[1,1,1]])\n",
    "b=np.array([[3,2],[1,4],[5,3]])\n",
    "c=np.dot(a,b)\n",
    "c.shape"
   ]
  },
  {
   "cell_type": "code",
   "execution_count": 28,
   "id": "42d74768",
   "metadata": {},
   "outputs": [
    {
     "name": "stdout",
     "output_type": "stream",
     "text": [
      "[7. 2.]\n"
     ]
    }
   ],
   "source": [
    "a=np.array([[2,3],[5,-4]])\n",
    "b=np.array([20,27])\n",
    "res=np.linalg.solve(a,b)\n",
    "print(res)"
   ]
  },
  {
   "cell_type": "code",
   "execution_count": 29,
   "id": "f0b9f0e7",
   "metadata": {},
   "outputs": [
    {
     "name": "stdout",
     "output_type": "stream",
     "text": [
      "eigen values\n",
      " [58.97915762 11.02084238]\n",
      "eigen vector\n",
      " [[ 0.78245733 -0.11296251]\n",
      " [ 0.62270421  0.99359925]]\n"
     ]
    }
   ],
   "source": [
    "a=np.array([[55,5],[35,15]])\n",
    "eig_val,eig_vec=np.linalg.eig(a)\n",
    "print('eigen values\\n',eig_val)\n",
    "print('eigen vector\\n',eig_vec)"
   ]
  },
  {
   "cell_type": "code",
   "execution_count": 30,
   "id": "743c63c7",
   "metadata": {},
   "outputs": [
    {
     "name": "stdout",
     "output_type": "stream",
     "text": [
      "-2.0000000000000004\n"
     ]
    }
   ],
   "source": [
    "a=np.array([[1,2],[3,4]])\n",
    "print(np.linalg.det(a))"
   ]
  },
  {
   "cell_type": "code",
   "execution_count": 21,
   "id": "7a72b36c",
   "metadata": {},
   "outputs": [
    {
     "name": "stdout",
     "output_type": "stream",
     "text": [
      "[[ 3  6  2]\n",
      " [ 9 12 17]\n",
      " [22 18 15]]\n",
      "trace of a is 30\n"
     ]
    }
   ],
   "source": [
    "# trace: primary diagonal element\n",
    "\n",
    "a=np.array([[3,6,2],[9,12,17],[22,18,15]])\n",
    "print(a)\n",
    "trace=np.trace(a)\n",
    "print('trace of a is',trace)"
   ]
  },
  {
   "cell_type": "code",
   "execution_count": 23,
   "id": "7c2b4c02",
   "metadata": {},
   "outputs": [
    {
     "name": "stdout",
     "output_type": "stream",
     "text": [
      "[[7 4]\n",
      " [5 9]]\n",
      "(2, 2)\n"
     ]
    }
   ],
   "source": [
    "# eigen values and eigen vector\n",
    " \n",
    "d=np.array([[7,4],[5,9]])\n",
    "print(d)\n",
    "print(d.shape)\n"
   ]
  },
  {
   "cell_type": "code",
   "execution_count": 24,
   "id": "4a43c64c",
   "metadata": {},
   "outputs": [
    {
     "name": "stdout",
     "output_type": "stream",
     "text": [
      "eigen vlues\n",
      " [ 3.41742431 12.58257569]\n",
      "eigen vector\n",
      " [[-0.74490545 -0.58243756]\n",
      " [ 0.66717004 -0.81287544]]\n"
     ]
    }
   ],
   "source": [
    "eig_val,eig_vec=np.linalg.eig(d)\n",
    "print('eigen vlues\\n',eig_val)\n",
    "print('eigen vector\\n',eig_vec)"
   ]
  },
  {
   "cell_type": "code",
   "execution_count": null,
   "id": "825cdcfd",
   "metadata": {},
   "outputs": [],
   "source": []
  }
 ],
 "metadata": {
  "kernelspec": {
   "display_name": "Python 3 (ipykernel)",
   "language": "python",
   "name": "python3"
  },
  "language_info": {
   "codemirror_mode": {
    "name": "ipython",
    "version": 3
   },
   "file_extension": ".py",
   "mimetype": "text/x-python",
   "name": "python",
   "nbconvert_exporter": "python",
   "pygments_lexer": "ipython3",
   "version": "3.10.9"
  }
 },
 "nbformat": 4,
 "nbformat_minor": 5
}
