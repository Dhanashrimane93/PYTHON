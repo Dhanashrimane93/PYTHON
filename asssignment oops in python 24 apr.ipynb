{
 "cells": [
  {
   "cell_type": "code",
   "execution_count": 1,
   "id": "10967a22",
   "metadata": {},
   "outputs": [],
   "source": [
    "#Q.1 create a child calss bus that will inherit all the variable and methods of the vehicle class\n",
    "class vehicle:\n",
    "\n",
    "    def _init_(self,name,max_speed,mileage):\n",
    "        self.name=name\n",
    "        self.max_speed=max_speed\n",
    "        self.mileage=mileage\n",
    "    "
   ]
  },
  {
   "cell_type": "code",
   "execution_count": 5,
   "id": "eb793240",
   "metadata": {},
   "outputs": [
    {
     "name": "stdout",
     "output_type": "stream",
     "text": [
      "<class 'type'>\n"
     ]
    },
    {
     "ename": "AttributeError",
     "evalue": "type object 'student' has no attribute '_dict_'",
     "output_type": "error",
     "traceback": [
      "\u001b[1;31m---------------------------------------------------------------------------\u001b[0m",
      "\u001b[1;31mAttributeError\u001b[0m                            Traceback (most recent call last)",
      "Cell \u001b[1;32mIn[5], line 5\u001b[0m\n\u001b[0;32m      3\u001b[0m     \u001b[38;5;28;01mpass\u001b[39;00m\n\u001b[0;32m      4\u001b[0m \u001b[38;5;28mprint\u001b[39m(\u001b[38;5;28mtype\u001b[39m(student))\n\u001b[1;32m----> 5\u001b[0m \u001b[38;5;28mprint\u001b[39m(\u001b[43mstudent\u001b[49m\u001b[38;5;241;43m.\u001b[39;49m\u001b[43m_dict_\u001b[49m\u001b[38;5;241m.\u001b[39mkeys())\n\u001b[0;32m      6\u001b[0m \u001b[38;5;28mprint\u001b[39m(student\u001b[38;5;241m.\u001b[39m_module_)\n",
      "\u001b[1;31mAttributeError\u001b[0m: type object 'student' has no attribute '_dict_'"
     ]
    }
   ],
   "source": [
    "#Q.2 write a simple python class named student and display its type .also display the  _dict_ attrribute keys and the value of module attribuite of student class\n",
    "class student:\n",
    "    pass\n",
    "print(type(student))\n",
    "print(student._dict_.keys())\n",
    "print(student._module_)"
   ]
  },
  {
   "cell_type": "code",
   "execution_count": 7,
   "id": "df16a86d",
   "metadata": {},
   "outputs": [],
   "source": [
    "# Q.3 write python class named student with two attribute student _id,student_name.add new attribute student_class.create function to display the entire attribute and their values in student class\n",
    "class student:\n",
    "    student_id='V10'\n",
    "    student_name='jacqueline barnett'\n",
    "    def display():\n",
    "        print('studdent_id:{student.student_id}\\nstudent name:{student.student_name}')\n",
    "        print(\"original attributes and their values of the student class:\")\n",
    "        student.display()"
   ]
  },
  {
   "cell_type": "code",
   "execution_count": 8,
   "id": "9fc370bd",
   "metadata": {},
   "outputs": [
    {
     "name": "stdout",
     "output_type": "stream",
     "text": [
      "\n",
      "\n"
     ]
    },
    {
     "ename": "AttributeError",
     "evalue": "'student' object has no attribute '_dict_'",
     "output_type": "error",
     "traceback": [
      "\u001b[1;31m---------------------------------------------------------------------------\u001b[0m",
      "\u001b[1;31mAttributeError\u001b[0m                            Traceback (most recent call last)",
      "Cell \u001b[1;32mIn[8], line 2\u001b[0m\n\u001b[0;32m      1\u001b[0m \u001b[38;5;66;03m#Q.4 with two instances student 1 stdent 2 and assign to said instance attribute print attrubute \u001b[39;00m\n\u001b[1;32m----> 2\u001b[0m \u001b[38;5;28;01mclass\u001b[39;00m \u001b[38;5;21;01mstudent\u001b[39;00m:\n\u001b[0;32m      3\u001b[0m     school\u001b[38;5;241m=\u001b[39m\u001b[38;5;124m'\u001b[39m\u001b[38;5;124mskill academy\u001b[39m\u001b[38;5;124m'\u001b[39m\n\u001b[0;32m      4\u001b[0m     address\u001b[38;5;241m=\u001b[39m\u001b[38;5;124m'\u001b[39m\u001b[38;5;124mindia\u001b[39m\u001b[38;5;124m'\u001b[39m\n",
      "Cell \u001b[1;32mIn[8], line 16\u001b[0m, in \u001b[0;36mstudent\u001b[1;34m()\u001b[0m\n\u001b[0;32m     14\u001b[0m \u001b[38;5;28;01mfor\u001b[39;00m student \u001b[38;5;129;01min\u001b[39;00m students:\n\u001b[0;32m     15\u001b[0m     \u001b[38;5;28mprint\u001b[39m(\u001b[38;5;124m'\u001b[39m\u001b[38;5;130;01m\\n\u001b[39;00m\u001b[38;5;124m'\u001b[39m)\n\u001b[1;32m---> 16\u001b[0m     \u001b[38;5;28;01mfor\u001b[39;00m attr \u001b[38;5;129;01min\u001b[39;00m \u001b[43mstudent\u001b[49m\u001b[38;5;241;43m.\u001b[39;49m\u001b[43m_dict_\u001b[49m:\n\u001b[0;32m     17\u001b[0m         \u001b[38;5;28mprint\u001b[39m(\u001b[38;5;124m'\u001b[39m\u001b[38;5;132;01m{attr}\u001b[39;00m\u001b[38;5;124m->\u001b[39m\u001b[38;5;124m{\u001b[39m\u001b[38;5;124mgetattr(student,attr)}\u001b[39m\u001b[38;5;124m'\u001b[39m)\n",
      "\u001b[1;31mAttributeError\u001b[0m: 'student' object has no attribute '_dict_'"
     ]
    }
   ],
   "source": [
    "#Q.4 with two instances student 1 stdent 2 and assign to said instance attribute print attrubute PRINT  all the atrribute of sudent1 student2 with their values in  \n",
    "class student:\n",
    "    school='skill academy'\n",
    "    address='india'\n",
    "    student1=student()\n",
    "    student2=student()\n",
    "    student1.student_id=\"v12\"\n",
    "    student1.student_name=\"ernesto mendez\"\n",
    "    student2.student_id=\"v12\"\n",
    "    student2.marks_language=85\n",
    "    student2.marks_science=93\n",
    "    student2.marks_math=95\n",
    "    students=[student1,student2]\n",
    "    for student in students:\n",
    "        print('\\n')\n",
    "        for attr in student._dict_:\n",
    "            print('{attr}->{getattr(student,attr)}')"
   ]
  },
  {
   "cell_type": "code",
   "execution_count": 11,
   "id": "f316c63f",
   "metadata": {},
   "outputs": [
    {
     "ename": "SyntaxError",
     "evalue": "invalid syntax (2105804413.py, line 12)",
     "output_type": "error",
     "traceback": [
      "\u001b[1;36m  Cell \u001b[1;32mIn[11], line 12\u001b[1;36m\u001b[0m\n\u001b[1;33m    my book=book (\"python crash course\",\"eric matthes\",\"23$\")\u001b[0m\n\u001b[1;37m       ^\u001b[0m\n\u001b[1;31mSyntaxError\u001b[0m\u001b[1;31m:\u001b[0m invalid syntax\n"
     ]
    }
   ],
   "source": [
    "# Q.5define a book class with the followng attributes title,author price.define a constructor used to initialize the method with values entered by the user set the view method to display information for the cuurent book write program to test the boook class\n",
    "class book:\n",
    "    def _init_(self,title,author,price):\n",
    "        self.title=title\n",
    "        self.author=author\n",
    "        self.price=price\n",
    "        \n",
    "    def view(self):\n",
    "        return(\"book title:\",self,title,\"book author:\",self.author,\"book price:\",self.price)\n",
    "    \n",
    "    \n",
    "    my book=book (\"python crash course\",\"eric matthes\",\"23$\")\n",
    "    print(mybook.view())\n",
    "    #the output:('book title:','python crash course','book author:','eric matthes','book price','23$')"
   ]
  },
  {
   "cell_type": "code",
   "execution_count": null,
   "id": "762580b5",
   "metadata": {},
   "outputs": [],
   "source": []
  }
 ],
 "metadata": {
  "kernelspec": {
   "display_name": "Python 3 (ipykernel)",
   "language": "python",
   "name": "python3"
  },
  "language_info": {
   "codemirror_mode": {
    "name": "ipython",
    "version": 3
   },
   "file_extension": ".py",
   "mimetype": "text/x-python",
   "name": "python",
   "nbconvert_exporter": "python",
   "pygments_lexer": "ipython3",
   "version": "3.10.9"
  }
 },
 "nbformat": 4,
 "nbformat_minor": 5
}
