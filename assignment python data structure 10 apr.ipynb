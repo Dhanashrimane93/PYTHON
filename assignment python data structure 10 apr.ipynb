{
 "cells": [
  {
   "cell_type": "code",
   "execution_count": 1,
   "id": "2d34c918",
   "metadata": {},
   "outputs": [
    {
     "name": "stdout",
     "output_type": "stream",
     "text": [
      "[500, 400, 300, 200, 100]\n"
     ]
    }
   ],
   "source": [
    "# Q.1 reverse a given list in python\n",
    "#aLsit=[100,200,300,400,500]\n",
    "aLsit=[100,200,300,400,500]\n",
    "aLsit=aLsit[::-1]\n",
    "print(aLsit)"
   ]
  },
  {
   "cell_type": "code",
   "execution_count": 2,
   "id": "7416ab75",
   "metadata": {},
   "outputs": [
    {
     "name": "stdout",
     "output_type": "stream",
     "text": [
      "['My']\n",
      "['My', 'name']\n",
      "['My', 'name', 'is']\n",
      "['My', 'name', 'is', 'Rajesh']\n"
     ]
    }
   ],
   "source": [
    "# Q.2 CONCATENATE TWO LIST INDEX-WISE\n",
    "list1=[\"M\",\"na\",\"i\",\"Raj\"]\n",
    "list2=[\"y\",\"me\",\"s\",\"esh\"]\n",
    "list3=[]\n",
    "for i in range(len(list1)):\n",
    "    list3.append(list1[i]+list2[i])\n",
    "    print(list3)\n"
   ]
  },
  {
   "cell_type": "code",
   "execution_count": 4,
   "id": "f8a0c25a",
   "metadata": {},
   "outputs": [
    {
     "name": "stdout",
     "output_type": "stream",
     "text": [
      "{'ten': 10, 'twenty': 20, 'thirty': 30, 'fourty': 40, 'fifty': 50}\n"
     ]
    }
   ],
   "source": [
    "# Q.3 MERGE FOLLOWING TWO PYTHON DICTIONARIES INTO ONE\n",
    "dict1={'ten':10,'twenty':20,'thirty':30}\n",
    "dict2={'thirty':30,'fourty':40,'fifty':50}\n",
    "dict3={**dict1,**dict2}\n",
    "print(dict3)"
   ]
  },
  {
   "cell_type": "code",
   "execution_count": 5,
   "id": "5177fc46",
   "metadata": {},
   "outputs": [
    {
     "name": "stdout",
     "output_type": "stream",
     "text": [
      "[5, 15, 25, 50]\n"
     ]
    }
   ],
   "source": [
    "#Q.4 GIVEN A PYTHON LIST,REMOVE ALL OCCURRENCE OF 20 FROM THE LIST\n",
    "list1=[5,20,15,20,25,50,20]\n",
    "def removevalue(samplelist,val):\n",
    "    return[value for value in samplelist if value !=val]\n",
    "reslist=removevalue(list1,20)\n",
    "print(reslist)"
   ]
  },
  {
   "cell_type": "code",
   "execution_count": 6,
   "id": "e03eb5e9",
   "metadata": {},
   "outputs": [
    {
     "name": "stdout",
     "output_type": "stream",
     "text": [
      "[('python', 25), ('c++', 3), ('rust', 30), ('c#', 1)]\n"
     ]
    }
   ],
   "source": [
    "#Q.5 HOW TO REMOVE DUPLICATE FROM A LIST OF TUPLES USING THE LIST COMPREHENSION TECHNIQUE\n",
    "list_of_tuple=[(\"c#\",1),(\"c#\",1),(\"c++\",3),(\"c++\",3),(\"python\",25),(\"rust\",30)]\n",
    "unique_list_of_tuple=list(set([item for item in list_of_tuple]))\n",
    "print(unique_list_of_tuple)"
   ]
  },
  {
   "cell_type": "code",
   "execution_count": 7,
   "id": "1e354fb8",
   "metadata": {},
   "outputs": [
    {
     "name": "stdout",
     "output_type": "stream",
     "text": [
      "4\n",
      "7\n",
      "11\n",
      "15\n"
     ]
    }
   ],
   "source": [
    "# Q.6 WHAT WILL BE THE OUTPUT OF THE FOLLOWING CODE SNIPPET\n",
    "arr=[[1,2,3,4,],\n",
    "    [4,5,6,7],\n",
    "    [8,9,10,11],\n",
    "    [12,13,14,15]]\n",
    "for i in range(0,4):\n",
    "    print(arr[i].pop())"
   ]
  },
  {
   "cell_type": "code",
   "execution_count": 9,
   "id": "12573b96",
   "metadata": {},
   "outputs": [
    {
     "data": {
      "text/plain": [
       "3"
      ]
     },
     "execution_count": 9,
     "metadata": {},
     "output_type": "execute_result"
    }
   ],
   "source": [
    "#Q.7 GET THE NUMBER OF ITEM IN SET\n",
    "THISSET={\"APPLE\",\"BANANA\",\"CHERRY\"}\n",
    "len(THISSET)\n",
    "    "
   ]
  },
  {
   "cell_type": "code",
   "execution_count": 12,
   "id": "64895772",
   "metadata": {},
   "outputs": [
    {
     "name": "stdout",
     "output_type": "stream",
     "text": [
      "YES,APPLE IS A FRUIT!\n"
     ]
    }
   ],
   "source": [
    "# Q.8 CHECK IF  APPLE IS PRESENT IN THE FRUIT SET USING THE MEMBERSHIP TEST METHOD\n",
    "FRUITS={\"APPLE\",\"BANANA\",\"CHERRY\"}\n",
    "if \"APPLE\" in FRUITS:\n",
    "    print(\"YES,APPLE IS A FRUIT!\")"
   ]
  },
  {
   "cell_type": "code",
   "execution_count": 14,
   "id": "daff9dc8",
   "metadata": {},
   "outputs": [
    {
     "data": {
      "text/plain": [
       "{'APPLE', 'BANANA', 'CHERRY', 'GRAPES', 'MANGO', 'ORANGE'}"
      ]
     },
     "execution_count": 14,
     "metadata": {},
     "output_type": "execute_result"
    }
   ],
   "source": [
    "# Q.9 USE THE CORRECT METHOD TO ADD MORE FRUITS TO THE FRUIT SET\n",
    "FRIUTS={\"APPLE\",\"BANANA\",\"CHERRY\"}\n",
    "MORE_FRUITS=[\"ORANGE\",\"MANGO\",\"GRAPES\"]\n",
    "FRUITS.update(MORE_FRUITS)\n",
    "FRUITS\n"
   ]
  },
  {
   "cell_type": "code",
   "execution_count": 16,
   "id": "45859200",
   "metadata": {},
   "outputs": [
    {
     "name": "stdout",
     "output_type": "stream",
     "text": [
      "b > 200\n",
      "d > 200\n"
     ]
    }
   ],
   "source": [
    "#Q.10 DISPLAY ALL THE KEYS WITH VALUE 200 FROM THE FOLLOWING DICTIONARY\n",
    "sampledict={'a':100,'b':200,'c':300,'d':200}\n",
    "val=200\n",
    "for k in sampledict.keys():\n",
    "    if sampledict[k]==val:\n",
    "        print(k,\">\",sampledict[k])"
   ]
  },
  {
   "cell_type": "code",
   "execution_count": null,
   "id": "56ad0011",
   "metadata": {},
   "outputs": [],
   "source": []
  }
 ],
 "metadata": {
  "kernelspec": {
   "display_name": "Python 3 (ipykernel)",
   "language": "python",
   "name": "python3"
  },
  "language_info": {
   "codemirror_mode": {
    "name": "ipython",
    "version": 3
   },
   "file_extension": ".py",
   "mimetype": "text/x-python",
   "name": "python",
   "nbconvert_exporter": "python",
   "pygments_lexer": "ipython3",
   "version": "3.10.9"
  }
 },
 "nbformat": 4,
 "nbformat_minor": 5
}
