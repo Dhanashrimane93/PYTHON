{
 "cells": [
  {
   "cell_type": "code",
   "execution_count": 4,
   "id": "78aabf10",
   "metadata": {},
   "outputs": [],
   "source": [
    "# 1  write a numpy program to generate six random integers between 10 and 30\n",
    "import numpy as np"
   ]
  },
  {
   "cell_type": "code",
   "execution_count": 7,
   "id": "98ec38df",
   "metadata": {},
   "outputs": [
    {
     "name": "stdout",
     "output_type": "stream",
     "text": [
      "[29 22 24 25 15 29]\n"
     ]
    }
   ],
   "source": [
    "x=np.random.randint(low=10,high=30,size=6)\n",
    "print(x)"
   ]
  },
  {
   "cell_type": "code",
   "execution_count": 9,
   "id": "347ea1d3",
   "metadata": {},
   "outputs": [
    {
     "name": "stdout",
     "output_type": "stream",
     "text": [
      "[[20 21 22]\n",
      " [23 24 25]\n",
      " [26 27 28]]\n"
     ]
    }
   ],
   "source": [
    "# 2 write a numpy program to create a 3x3 matrix with value ranging from 20 to 28\n",
    "\n",
    "import numpy as np\n",
    "x=np.arange(20,29).reshape(3,3)\n",
    "print(x)"
   ]
  },
  {
   "cell_type": "code",
   "execution_count": null,
   "id": "1c27bcd8",
   "metadata": {},
   "outputs": [],
   "source": [
    "# 3 write a numpy programe to create a vector filled with 1s of size 10 and update\n",
    "# the sixth value to 25\n"
   ]
  }
 ],
 "metadata": {
  "kernelspec": {
   "display_name": "Python 3 (ipykernel)",
   "language": "python",
   "name": "python3"
  },
  "language_info": {
   "codemirror_mode": {
    "name": "ipython",
    "version": 3
   },
   "file_extension": ".py",
   "mimetype": "text/x-python",
   "name": "python",
   "nbconvert_exporter": "python",
   "pygments_lexer": "ipython3",
   "version": "3.10.9"
  }
 },
 "nbformat": 4,
 "nbformat_minor": 5
}
