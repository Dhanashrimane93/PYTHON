{
 "cells": [
  {
   "cell_type": "code",
   "execution_count": 7,
   "id": "b3ee1f4b",
   "metadata": {},
   "outputs": [],
   "source": [
    "import numpy as np"
   ]
  },
  {
   "cell_type": "code",
   "execution_count": 8,
   "id": "b45bf30b",
   "metadata": {},
   "outputs": [
    {
     "name": "stdout",
     "output_type": "stream",
     "text": [
      "10\n",
      "[3 7]\n",
      "[4 6]\n"
     ]
    }
   ],
   "source": [
    "a1=np.array([[1,2],[3,4]])\n",
    "print(a1.sum())        #1+2+3+4=10\n",
    "print(a1.sum(axis=1))  # axis=1(row wise), 1+2=3,  3+4=7\n",
    "print(a1.sum(axis=0))  # axis=0(col wise), 1+3=4,  2+4=6"
   ]
  },
  {
   "cell_type": "code",
   "execution_count": 44,
   "id": "eca5c77a",
   "metadata": {},
   "outputs": [
    {
     "name": "stdout",
     "output_type": "stream",
     "text": [
      "[[10 11 12 13]\n",
      " [14 15 16 17]\n",
      " [18 19 20 21]]\n"
     ]
    }
   ],
   "source": [
    "a2=np.arange(10,22).reshape(3,4)\n",
    "print(a2)"
   ]
  },
  {
   "cell_type": "code",
   "execution_count": 45,
   "id": "b3e398fb",
   "metadata": {},
   "outputs": [
    {
     "name": "stdout",
     "output_type": "stream",
     "text": [
      "40\n"
     ]
    }
   ],
   "source": [
    "a=np.array([1,7,4,3,5,2,2,9,7])\n",
    "b=np.sum(a)\n",
    "print(b)"
   ]
  },
  {
   "cell_type": "code",
   "execution_count": 46,
   "id": "9c297e8d",
   "metadata": {},
   "outputs": [
    {
     "name": "stdout",
     "output_type": "stream",
     "text": [
      "[3 9]\n"
     ]
    }
   ],
   "source": [
    "a=np.array([[1,7,4],[3,5,2],[2,9,7]])\n",
    "print(np.extract(a%3==0,a))"
   ]
  },
  {
   "cell_type": "code",
   "execution_count": 47,
   "id": "ce049076",
   "metadata": {},
   "outputs": [
    {
     "name": "stdout",
     "output_type": "stream",
     "text": [
      "[[3 7 4]\n",
      " [3 5 2]\n",
      " [2 3 7]]\n",
      "[7 4 5 7]\n"
     ]
    }
   ],
   "source": [
    "a=np.array([[3,7,4],[3,5,2],[2,3,7]])\n",
    "print(a)\n",
    "b=np.extract(a>3,a)\n",
    "print(b)"
   ]
  },
  {
   "cell_type": "code",
   "execution_count": 12,
   "id": "a4689543",
   "metadata": {},
   "outputs": [
    {
     "name": "stdout",
     "output_type": "stream",
     "text": [
      "186\n",
      "[46 62 78]\n",
      "[42 45 48 51]\n"
     ]
    }
   ],
   "source": [
    "print(a2.sum())        #10+11+12+13....+21=186\n",
    "print(a2.sum(axis=1))  #row wise = 10+11+12+13=46\n",
    "print(a2.sum(axis=0))  #col wise= 10+14+18=42"
   ]
  },
  {
   "cell_type": "code",
   "execution_count": 43,
   "id": "0518d8b1",
   "metadata": {},
   "outputs": [
    {
     "name": "stdout",
     "output_type": "stream",
     "text": [
      "[[12 13  4]\n",
      " [15 17 16]\n",
      " [18 19 11]\n",
      " [16 22 20]]\n",
      "(4, 3)\n",
      "2\n"
     ]
    }
   ],
   "source": [
    "# 2 np.max and np.min\n",
    "\n",
    "m=[[12,13,4],[15,17,16],[18,19,11],[16,22,20]]\n",
    "w1=np.array(m)\n",
    "print(w1)\n",
    "print(w1.shape)\n",
    "print(w1.ndim)"
   ]
  },
  {
   "cell_type": "code",
   "execution_count": 15,
   "id": "a8ab6768",
   "metadata": {},
   "outputs": [
    {
     "name": "stdout",
     "output_type": "stream",
     "text": [
      "[12 13 11]\n",
      "[12 15 11 16]\n",
      "[18 22 20]\n",
      "[14 17 19 22]\n"
     ]
    }
   ],
   "source": [
    "# axis 1=row\n",
    "# axis 0=colum\n",
    "print(np.min(w1,axis=0)) #[12 13 4]\n",
    "print(np.min(w1,axis=1)) #[4 15 11 16]\n",
    "print(np.max(w1,axis=0)) #[18 22 20]\n",
    "print(np.max(w1,axis=1)) #[13 17 19 22]"
   ]
  },
  {
   "cell_type": "code",
   "execution_count": 16,
   "id": "7284f718",
   "metadata": {},
   "outputs": [
    {
     "name": "stdout",
     "output_type": "stream",
     "text": [
      "[12 14  7 79 32 45 28  4 17]\n",
      "1\n"
     ]
    }
   ],
   "source": [
    "# 3 np.argmax() and np.min()\n",
    "\n",
    "p1=np.array([12,14,7,79,32,45,28,4,17])\n",
    "print(p1)\n",
    "print(p1.ndim)"
   ]
  },
  {
   "cell_type": "code",
   "execution_count": 17,
   "id": "d129311e",
   "metadata": {},
   "outputs": [
    {
     "name": "stdout",
     "output_type": "stream",
     "text": [
      "79\n",
      "4\n"
     ]
    }
   ],
   "source": [
    "print(np.max(p1)) #79\n",
    "print(np.min(p1)) #4"
   ]
  },
  {
   "cell_type": "code",
   "execution_count": 18,
   "id": "f49b0f97",
   "metadata": {},
   "outputs": [
    {
     "name": "stdout",
     "output_type": "stream",
     "text": [
      "3\n",
      "7\n"
     ]
    }
   ],
   "source": [
    "print(np.argmax(p1)) #3 index of 79\n",
    "print(np.argmin(p1)) #7 index of 4"
   ]
  },
  {
   "cell_type": "code",
   "execution_count": 20,
   "id": "e7c964f5",
   "metadata": {},
   "outputs": [
    {
     "name": "stdout",
     "output_type": "stream",
     "text": [
      "[[16 15 21]\n",
      " [15 16  8]\n",
      " [19  2 18]\n",
      " [ 9 12 13]]\n"
     ]
    }
   ],
   "source": [
    "r2=[[16,15,21],[15,16,8],[19,2,18],[9,12,13]]\n",
    "p2=np.array(r2)\n",
    "print(p2)"
   ]
  },
  {
   "cell_type": "code",
   "execution_count": 22,
   "id": "1d273895",
   "metadata": {},
   "outputs": [
    {
     "name": "stdout",
     "output_type": "stream",
     "text": [
      "[3 2 1]\n",
      "[1 2 1 0]\n",
      "[2 1 0]\n",
      "[2 1 0 2]\n"
     ]
    }
   ],
   "source": [
    "print(np.argmin(p2,axis=0)) #col wise\n",
    "print(np.argmin(p2,axis=1)) # row wise\n",
    "print(np.argmax(p2,axis=0))\n",
    "print(np.argmax(p2,axis=1))"
   ]
  },
  {
   "cell_type": "code",
   "execution_count": 24,
   "id": "7f216dcc",
   "metadata": {},
   "outputs": [
    {
     "name": "stdout",
     "output_type": "stream",
     "text": [
      "[34 23 56 12 39]\n",
      "1\n"
     ]
    }
   ],
   "source": [
    "# 4 np.sort()\n",
    "\n",
    "r1=np.array([34,23,56,12,39])\n",
    "print(r1)\n",
    "print(r1.ndim)"
   ]
  },
  {
   "cell_type": "code",
   "execution_count": 26,
   "id": "ec63b42c",
   "metadata": {},
   "outputs": [
    {
     "name": "stdout",
     "output_type": "stream",
     "text": [
      "[12 23 34 39 56]\n",
      "[56 39 34 23 12]\n"
     ]
    }
   ],
   "source": [
    "r2=np.sort(r1)\n",
    "print(r2)\n",
    "r2=np.sort(r1)[::-1]\n",
    "print(r2)"
   ]
  },
  {
   "cell_type": "code",
   "execution_count": 29,
   "id": "ec84159c",
   "metadata": {},
   "outputs": [
    {
     "name": "stdout",
     "output_type": "stream",
     "text": [
      "[[11 21 18]\n",
      " [24 35 16]\n",
      " [ 7 14  3]]\n",
      "2\n"
     ]
    }
   ],
   "source": [
    "r3=np.array([[11,21,18],[24,35,16],[7,14,3]])\n",
    "print(r3)\n",
    "print(r3.ndim)"
   ]
  },
  {
   "cell_type": "code",
   "execution_count": 30,
   "id": "6528a1e1",
   "metadata": {},
   "outputs": [
    {
     "name": "stdout",
     "output_type": "stream",
     "text": [
      "[[11 18 21]\n",
      " [16 24 35]\n",
      " [ 3  7 14]]\n",
      "[[ 7 14  3]\n",
      " [11 21 16]\n",
      " [24 35 18]]\n"
     ]
    }
   ],
   "source": [
    "#sort row wise\n",
    "r4=np.sort(r3,axis=1)\n",
    "print(r4)\n",
    " # sort column wise\n",
    "r5=np.sort(r3,axis=0)\n",
    "print(r5)\n"
   ]
  },
  {
   "cell_type": "code",
   "execution_count": 31,
   "id": "a55bf1bf",
   "metadata": {},
   "outputs": [
    {
     "name": "stdout",
     "output_type": "stream",
     "text": [
      "[[11 18 21]\n",
      " [16 24 35]\n",
      " [ 3  7 14]]\n"
     ]
    }
   ],
   "source": [
    "r6=np.sort(r3)  # default sort order is row wise\n",
    "print(r6)"
   ]
  },
  {
   "cell_type": "code",
   "execution_count": 32,
   "id": "c4766f28",
   "metadata": {},
   "outputs": [
    {
     "name": "stdout",
     "output_type": "stream",
     "text": [
      "[12 14  7 79 32 45 28  4 17]\n"
     ]
    }
   ],
   "source": [
    "# 5  np.where()\n",
    "\n",
    "p1=np.array([12,14,7,79,32,45,28,4,17])\n",
    "print(p1)\n",
    "\n"
   ]
  },
  {
   "cell_type": "code",
   "execution_count": 34,
   "id": "663da29b",
   "metadata": {},
   "outputs": [
    {
     "name": "stdout",
     "output_type": "stream",
     "text": [
      "(array([0, 5], dtype=int64),)\n",
      "[12 45]\n"
     ]
    }
   ],
   "source": [
    "n2=np.where(p1%3==0)\n",
    "print(n2)\n",
    "print(p1[np.where(p1%3==0)])"
   ]
  },
  {
   "cell_type": "code",
   "execution_count": 35,
   "id": "96d304ac",
   "metadata": {},
   "outputs": [
    {
     "name": "stdout",
     "output_type": "stream",
     "text": [
      "[12 14  7 79 32 45 28  4 17]\n",
      "(array([0, 1, 2, 7, 8], dtype=int64),)\n",
      "[12 14  7  4 17]\n"
     ]
    }
   ],
   "source": [
    "print(p1)\n",
    "print(np.where(p1<20))\n",
    "print(p1[np.where(p1<20)])"
   ]
  },
  {
   "cell_type": "code",
   "execution_count": 36,
   "id": "cabb7c70",
   "metadata": {},
   "outputs": [
    {
     "name": "stdout",
     "output_type": "stream",
     "text": [
      "[12 14  7 79 32 45 28  4 17]\n",
      "[ 17  19  12 158  64  90  56   9  22]\n",
      "[22 24  0 72 42 38 38 14 10]\n"
     ]
    }
   ],
   "source": [
    "# using np.where()with 3 parameters\n",
    "\n",
    "print(p1)\n",
    "t1=np.where(p1<20,p1+5,p1*2)\n",
    "# if p1<20 then add 5 to those values else multiply them by 2 \n",
    "print(t1)\n",
    "t2=np.where(p1%2==0,p1+10,p1-7)\n",
    "# if p1%2==0 then add 10 to those values else subtract7 from them\n",
    "print(t2)"
   ]
  },
  {
   "cell_type": "code",
   "execution_count": 38,
   "id": "39d0e864",
   "metadata": {},
   "outputs": [
    {
     "name": "stdout",
     "output_type": "stream",
     "text": [
      "[[ 1  2  7]\n",
      " [ 3  4 -8]\n",
      " [ 5  6  0]]\n",
      "2\n"
     ]
    }
   ],
   "source": [
    "w1=np.array([[1,2,7],[3,4,-8],[5,6,0]])\n",
    "print(w1)\n",
    "print(w1.ndim)"
   ]
  },
  {
   "cell_type": "code",
   "execution_count": 39,
   "id": "c6cd47f7",
   "metadata": {},
   "outputs": [
    {
     "name": "stdout",
     "output_type": "stream",
     "text": [
      "(array([0, 1, 1, 2, 2], dtype=int64), array([1, 1, 2, 1, 2], dtype=int64))\n",
      "[ 2  4 -8  6  0]\n"
     ]
    }
   ],
   "source": [
    "print(np.where(w1%2==0))\n",
    "print(w1[np.where(w1%2==0)])"
   ]
  },
  {
   "cell_type": "code",
   "execution_count": 40,
   "id": "7abc8e65",
   "metadata": {},
   "outputs": [
    {
     "name": "stdout",
     "output_type": "stream",
     "text": [
      "[12 14  7 79 32 45 28  4 17]\n",
      "[79 32 45 28]\n",
      "[14  7 79 32 28  4 17]\n"
     ]
    }
   ],
   "source": [
    "# 6 np.extract()\n",
    "\n",
    "print(p1)\n",
    "t1=np.extract(p1>20,p1)\n",
    "print(t1)\n",
    "t2=np.extract(p1%3!=0,p1)\n",
    "print(t2)"
   ]
  },
  {
   "cell_type": "code",
   "execution_count": 41,
   "id": "300b5ae8",
   "metadata": {},
   "outputs": [
    {
     "name": "stdout",
     "output_type": "stream",
     "text": [
      "[[ 1  2  7]\n",
      " [ 3  4  8]\n",
      " [ 5  6 13]]\n",
      "2\n"
     ]
    }
   ],
   "source": [
    "w1=np.array([[1,2,7],[3,4,8],[5,6,13]])\n",
    "print(w1)\n",
    "print(w1.ndim)"
   ]
  },
  {
   "cell_type": "code",
   "execution_count": 42,
   "id": "7550edc1",
   "metadata": {},
   "outputs": [
    {
     "name": "stdout",
     "output_type": "stream",
     "text": [
      "[2 4 8 6]\n"
     ]
    }
   ],
   "source": [
    "res=np.extract(w1%2==0,w1)\n",
    "print(res)"
   ]
  },
  {
   "cell_type": "code",
   "execution_count": null,
   "id": "3484119a",
   "metadata": {},
   "outputs": [],
   "source": []
  }
 ],
 "metadata": {
  "kernelspec": {
   "display_name": "Python 3 (ipykernel)",
   "language": "python",
   "name": "python3"
  },
  "language_info": {
   "codemirror_mode": {
    "name": "ipython",
    "version": 3
   },
   "file_extension": ".py",
   "mimetype": "text/x-python",
   "name": "python",
   "nbconvert_exporter": "python",
   "pygments_lexer": "ipython3",
   "version": "3.10.9"
  }
 },
 "nbformat": 4,
 "nbformat_minor": 5
}
