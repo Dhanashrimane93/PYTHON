{
 "cells": [
  {
   "cell_type": "code",
   "execution_count": 11,
   "id": "12bc4368",
   "metadata": {},
   "outputs": [
    {
     "name": "stdout",
     "output_type": "stream",
     "text": [
      "              age        \n",
      "             mean min max\n",
      "school_code              \n",
      "s001         12.5  12  13\n",
      "s002         13.0  12  14\n",
      "s003         13.0  13  13\n",
      "s004         12.0  12  12\n"
     ]
    }
   ],
   "source": [
    "#Q.1 write pandas programe to split the following dataframe by school code and get mean max\n",
    "#.min value of age for each school\n",
    "import pandas as pd\n",
    "import numpy as np\n",
    "student_data=pd.DataFrame({'school_code':['s001','s002','s003','s001','s002','s004'],\n",
    "                          'class':['v','v','vi','vi','v','vi'],\n",
    "                          'name':['alberto franco','gino mcneil','ryan parkes','eesha hinton','gino mneil','david parkes'],\n",
    "                          'date_of_birth':['15/05/2002','17/05/2002','16/02/1999','25/09/1998','11/05/2002','15/09/1997'],\n",
    "                          'age':[12,12,13,13,14,12],\n",
    "                          'height':[173,192,186,167,151,159],\n",
    "                          'weight':[35,32,33,30,31,32],\n",
    "                          'address':['street1','street2','street3','street1','street2','street4']},\n",
    "                         index=['s1','s2','s3','s4','s5','s6'])\n",
    "\n",
    "grouped_single=student_data.groupby('school_code').agg({'age':\n",
    "                                                      ['mean','min','max']})\n",
    "print(grouped_single)"
   ]
  },
  {
   "cell_type": "code",
   "execution_count": 4,
   "id": "fd83519b",
   "metadata": {},
   "outputs": [
    {
     "name": "stdout",
     "output_type": "stream",
     "text": [
      "               age               \n",
      "            median       std  var\n",
      "school_code                      \n",
      "s001          12.5  0.707107  0.5\n",
      "s002          13.0  1.414214  2.0\n",
      "s003          13.0       NaN  NaN\n",
      "s004          12.0       NaN  NaN\n"
     ]
    }
   ],
   "source": [
    "#Q.2 write pandas programe to split the following dataframe by school code and get \n",
    "# median,variance and standard deviation of age forf each school\n",
    "\n",
    "student_data=pd.DataFrame({'school_code':['s001','s002','s003','s001','s002','s004'],\n",
    "                          'class':['v','v','vi','vi','v','vi'],\n",
    "                          'name':['alberto franco','gino mcneil','ryan parkes','eesha hinton','gino mneil','david parkes'],\n",
    "                          'date_of_birth':['15/05/2002','17/05/2002','16/02/1999','25/09/1998','11/05/2002','15/09/1997'],\n",
    "                          'age':[12,12,13,13,14,12],\n",
    "                          'height':[173,192,186,167,151,159],\n",
    "                          'weight':[35,32,33,30,31,32],\n",
    "                          'address':['street1','street2','street3','street1','street2','street4']},\n",
    "                         index=['s1','s2','s3','s4','s5','s6'])\n",
    "\n",
    "\n",
    "grouped_single=student_data.groupby('school_code').agg({'age':\n",
    "                                                      ['median','std','var']})\n",
    "print(grouped_single)"
   ]
  },
  {
   "cell_type": "code",
   "execution_count": 5,
   "id": "66e6d2af",
   "metadata": {},
   "outputs": [
    {
     "name": "stdout",
     "output_type": "stream",
     "text": [
      "\n",
      "mean,min,and max value of age for each school with customised column names:\n",
      "             age_mean  age_max  age_min\n",
      "school_code                            \n",
      "s001             12.5       13       12\n",
      "s002             13.0       14       12\n",
      "s003             13.0       13       13\n",
      "s004             12.0       12       12\n"
     ]
    }
   ],
   "source": [
    "# Q.3 write pandas program to split the following dataframe into groups by school\n",
    "#code and get mean min and max value of age with customised column name for each school\n",
    "\n",
    "pd.set_option('display.max_rows',None)\n",
    "student_data=pd.DataFrame({'school_code':['s001','s002','s003','s001','s002','s004'],\n",
    "                          'class':['v','v','vi','vi','v','vi'],\n",
    "                          'name':['alberto franco','gino mcneil','ryan parkes','eesha hinton','gino mneil','david parkes'],\n",
    "                          'date_of_birth':['15/05/2002','17/05/2002','16/02/1999','25/09/1998','11/05/2002','15/09/1997'],\n",
    "                          'age':[12,12,13,13,14,12],\n",
    "                          'height':[173,192,186,167,151,159],\n",
    "                          'weight':[35,32,33,30,31,32],\n",
    "                          'address':['street1','street2','street3','street1','street2','street4']},\n",
    "                         index=['s1','s2','s3','s4','s5','s6'])\n",
    "print('\\nmean,min,and max value of age for each school with customised column names:')\n",
    "grouped_single=student_data.groupby('school_code').agg(age_mean=('age','mean'),age_max=('age',max),age_min=('age',min))\n",
    "print(grouped_single)"
   ]
  },
  {
   "cell_type": "code",
   "execution_count": 19,
   "id": "74efdc2a",
   "metadata": {},
   "outputs": [
    {
     "name": "stdout",
     "output_type": "stream",
     "text": [
      "     animal  number_legs\n",
      "0       fox          4.0\n",
      "1  kangaroo          2.0\n",
      "2      deer          4.0\n",
      "3    spider          8.0\n",
      "4     snake          NaN\n"
     ]
    }
   ],
   "source": [
    "#Q.4 CALCULATE THE RANK FOR THE ABOVE DATAFRAME\n",
    "import pandas as pd\n",
    "import numpy as np\n",
    "df=pd.DataFrame(data={'animal':['fox','kangaroo','deer','spider','snake'],\n",
    "                     'number_legs':[4,2,4,8,np.nan]})\n",
    "print(df)\n",
    "\n",
    "df['default_rank']=df['number_legs'].rank()"
   ]
  },
  {
   "cell_type": "code",
   "execution_count": null,
   "id": "c20dd558",
   "metadata": {},
   "outputs": [],
   "source": []
  }
 ],
 "metadata": {
  "kernelspec": {
   "display_name": "Python 3 (ipykernel)",
   "language": "python",
   "name": "python3"
  },
  "language_info": {
   "codemirror_mode": {
    "name": "ipython",
    "version": 3
   },
   "file_extension": ".py",
   "mimetype": "text/x-python",
   "name": "python",
   "nbconvert_exporter": "python",
   "pygments_lexer": "ipython3",
   "version": "3.10.9"
  }
 },
 "nbformat": 4,
 "nbformat_minor": 5
}
