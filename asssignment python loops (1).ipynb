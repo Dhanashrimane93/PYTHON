{
 "cells": [
  {
   "cell_type": "code",
   "execution_count": 9,
   "id": "70c8eb85",
   "metadata": {},
   "outputs": [
    {
     "name": "stdout",
     "output_type": "stream",
     "text": [
      "60\n",
      "grade D\n"
     ]
    }
   ],
   "source": [
    "#Q.1 accept percentage from the user and dislplay the grade.\n",
    "grade=int(input())\n",
    "if grade>=90:\n",
    "    print('grade A')\n",
    "elif grade >=80:\n",
    "    print('grade B')\n",
    "elif grade >=70:\n",
    "    print('grade C')\n",
    "elif grade <=60:\n",
    "    print('grade D')"
   ]
  },
  {
   "cell_type": "code",
   "execution_count": 12,
   "id": "afcae3bf",
   "metadata": {},
   "outputs": [
    {
     "name": "stdout",
     "output_type": "stream",
     "text": [
      "enter weekday number7\n",
      "sunday\n"
     ]
    }
   ],
   "source": [
    "#Q.2 acccept a number from 1 to7 and display the name of the day\n",
    "weekday=int(input(\"enter weekday number\"))\n",
    "if weekday==1:\n",
    "    print(\"monday\")\n",
    "elif weekday==2:\n",
    "    print(\"tuesday\")\n",
    "elif weekday==3:\n",
    "    print(\"wednesday\")\n",
    "elif weekday==4:\n",
    "    print(\"thursday\")\n",
    "elif weekday==5:\n",
    "    print(\"friday\")\n",
    "elif weekday==6:\n",
    "    print(\"saturday\")\n",
    "elif weekday==7:\n",
    "    print(\"sunday\")\n",
    "else:\n",
    "    print(\"enter weekday number\")"
   ]
  },
  {
   "cell_type": "code",
   "execution_count": 14,
   "id": "aa1025d9",
   "metadata": {},
   "outputs": [
    {
     "name": "stdout",
     "output_type": "stream",
     "text": [
      "enter age:19\n",
      "eligible for voting\n"
     ]
    }
   ],
   "source": [
    "#Q.3 write a program to check wether a person eligible for voting\n",
    "age=int(input(\"enter age:\"))\n",
    "if age>=18:\n",
    "    print(\"eligible for voting\")\n",
    "else:\n",
    "    print(\"not eligible for voting\")"
   ]
  },
  {
   "cell_type": "code",
   "execution_count": 17,
   "id": "86ebbd99",
   "metadata": {},
   "outputs": [
    {
     "name": "stdout",
     "output_type": "stream",
     "text": [
      "1\n",
      "4\n",
      "9\n",
      "16\n",
      "25\n"
     ]
    }
   ],
   "source": [
    "#Q.4 calculate the squre of all number given in list \n",
    "l=[1,2,3,4,5]\n",
    "for i in l:\n",
    "    print(i**2)"
   ]
  },
  {
   "cell_type": "code",
   "execution_count": 21,
   "id": "5af9c040",
   "metadata": {},
   "outputs": [
    {
     "name": "stdout",
     "output_type": "stream",
     "text": [
      "odd: 1\n",
      "even: 2\n",
      "odd: 3\n",
      "even: 4\n",
      "odd: 5\n",
      "even: 6\n",
      "odd: 7\n",
      "even: 8\n",
      "odd: 9\n",
      "even: 10\n"
     ]
    }
   ],
   "source": [
    "#Q.5 print all even and odd numbers from 1 to 11\n",
    "# for even number\n",
    "for x in range(1,11):\n",
    "    if x%2==0:\n",
    "        print(\"even:\",x)\n",
    "    else:\n",
    "        print(\"odd:\",x)\n",
    " "
   ]
  },
  {
   "cell_type": "code",
   "execution_count": 27,
   "id": "ebe0b20f",
   "metadata": {},
   "outputs": [
    {
     "name": "stdout",
     "output_type": "stream",
     "text": [
      "5\n",
      "5\n",
      "4\n",
      "3\n",
      "2\n",
      "1\n"
     ]
    }
   ],
   "source": [
    "#Q.6 'n' natural number in decending using while loop\n",
    "i=int(input())\n",
    "while (i>=1):\n",
    "    print(i)\n",
    "    i=i-1\n",
    "    \n"
   ]
  },
  {
   "cell_type": "code",
   "execution_count": 29,
   "id": "d0990ad7",
   "metadata": {},
   "outputs": [
    {
     "name": "stdout",
     "output_type": "stream",
     "text": [
      "dhanashri\n",
      "dhanashri\n",
      "dhanashri\n",
      "dhanashri\n",
      "dhanashri\n"
     ]
    }
   ],
   "source": [
    "#Q.7 write ur name 5 times using while loop\n",
    "i=0\n",
    "while i<5:\n",
    "    print(\"dhanashri\")\n",
    "    i+=1"
   ]
  },
  {
   "cell_type": "code",
   "execution_count": 1,
   "id": "190a2de2",
   "metadata": {},
   "outputs": [],
   "source": [
    "#Q.8 FIND the sum of all even number from 0 to 10 using while loop\n",
    "sum=0\n",
    "i=0\n",
    "while(i<11):\n",
    "    sum=sum+i\n",
    "    i=i+2"
   ]
  },
  {
   "cell_type": "code",
   "execution_count": null,
   "id": "f43cb665",
   "metadata": {},
   "outputs": [],
   "source": []
  }
 ],
 "metadata": {
  "kernelspec": {
   "display_name": "Python 3 (ipykernel)",
   "language": "python",
   "name": "python3"
  },
  "language_info": {
   "codemirror_mode": {
    "name": "ipython",
    "version": 3
   },
   "file_extension": ".py",
   "mimetype": "text/x-python",
   "name": "python",
   "nbconvert_exporter": "python",
   "pygments_lexer": "ipython3",
   "version": "3.10.9"
  }
 },
 "nbformat": 4,
 "nbformat_minor": 5
}
