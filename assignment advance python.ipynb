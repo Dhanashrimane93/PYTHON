{
 "cells": [
  {
   "cell_type": "code",
   "execution_count": 2,
   "id": "99e3e4e1",
   "metadata": {},
   "outputs": [
    {
     "name": "stdout",
     "output_type": "stream",
     "text": [
      "False\n",
      "True\n"
     ]
    }
   ],
   "source": [
    "\n",
    "# Q.1 check wether the given string contain 0xB0.display a boolean result as shown below\n",
    "# string1='start address oxao fun1 address oxco\n",
    "# string2 ='end address oxff fun2 address oxbo\n",
    "#sol:\n",
    "import re\n",
    "string1='start address:OxAO,func1 address:OxCO'\n",
    "string2='end address:OxFF,func2 address:OxBO'\n",
    "print(bool(re.search(r'OxBO',string1)))\n",
    "print(bool(re.search(r'OxBO',string2)))"
   ]
  },
  {
   "cell_type": "code",
   "execution_count": 3,
   "id": "4bfe495d",
   "metadata": {},
   "outputs": [
    {
     "data": {
      "text/plain": [
       "'they ate five apples and five oranges'"
      ]
     },
     "execution_count": 3,
     "metadata": {},
     "output_type": "execute_result"
    }
   ],
   "source": [
    "#Q.2 replace all occurrences of 5 with five for the given string\n",
    "# string='they ate 5 apple and 5 oranges'\n",
    "import re\n",
    "string='they ate 5 apples and 5 oranges'\n",
    "re.sub(r'5','five',string)"
   ]
  },
  {
   "cell_type": "code",
   "execution_count": 1,
   "id": "46649f39",
   "metadata": {},
   "outputs": [
    {
     "data": {
      "text/plain": [
       "'they ate five apples and five oranges'"
      ]
     },
     "execution_count": 1,
     "metadata": {},
     "output_type": "execute_result"
    }
   ],
   "source": [
    "# Q.3 replace all occurresnces of 5 with five for the given string\n",
    "# string='they ate 5 apples and 5 oranges'\n",
    "import re\n",
    "string='they ate 5 apples and 5 oranges'\n",
    "re.sub(r'5','five',string,)"
   ]
  },
  {
   "cell_type": "code",
   "execution_count": 5,
   "id": "3a730740",
   "metadata": {},
   "outputs": [
    {
     "name": "stdout",
     "output_type": "stream",
     "text": [
      "['new']\n",
      "['new', 'ate']\n",
      "['new', 'ate', 'eat']\n",
      "['new', 'ate', 'eat', 'saw']\n"
     ]
    }
   ],
   "source": [
    "#Q.4 filter all elements that contain either a or w.\n",
    "import re \n",
    "items=['green','new','look','ate','eat','saw']\n",
    "new_list=[]\n",
    "for i in items:\n",
    "    if re.search(r'a',i) or re.search(r'w',i):\n",
    "        new_list.append(i)\n",
    "        print(new_list)\n",
    "    "
   ]
  },
  {
   "cell_type": "code",
   "execution_count": 8,
   "id": "060f4433",
   "metadata": {},
   "outputs": [
    {
     "data": {
      "text/plain": [
       "'this x should not be xd'"
      ]
     },
     "execution_count": 8,
     "metadata": {},
     "output_type": "execute_result"
    }
   ],
   "source": [
    "#Q.5 replace all occurresnces of note irrespective of case with x\n",
    "# string='this note should not be noted'\n",
    "import re\n",
    "string='this note should not be noted'\n",
    "re.sub(r'note','x',string)"
   ]
  },
  {
   "cell_type": "code",
   "execution_count": 11,
   "id": "bc528efa",
   "metadata": {},
   "outputs": [
    {
     "ename": "FileNotFoundError",
     "evalue": "[Errno 2] No such file or directory: 'file.txt'",
     "output_type": "error",
     "traceback": [
      "\u001b[1;31m---------------------------------------------------------------------------\u001b[0m",
      "\u001b[1;31mFileNotFoundError\u001b[0m                         Traceback (most recent call last)",
      "Cell \u001b[1;32mIn[11], line 5\u001b[0m\n\u001b[0;32m      1\u001b[0m \u001b[38;5;66;03m#text file\u001b[39;00m\n\u001b[0;32m      2\u001b[0m \u001b[38;5;66;03m#Q.a open file using open()\u001b[39;00m\n\u001b[0;32m      3\u001b[0m \u001b[38;5;66;03m#B.colse the file using close()\u001b[39;00m\n\u001b[0;32m      4\u001b[0m \u001b[38;5;66;03m#Q.C read thev file using read()\u001b[39;00m\n\u001b[1;32m----> 5\u001b[0m f\u001b[38;5;241m=\u001b[39m\u001b[38;5;28;43mopen\u001b[39;49m\u001b[43m(\u001b[49m\u001b[38;5;124;43m\"\u001b[39;49m\u001b[38;5;124;43mfile.txt\u001b[39;49m\u001b[38;5;124;43m\"\u001b[39;49m\u001b[43m,\u001b[49m\u001b[43mencoding\u001b[49m\u001b[38;5;241;43m=\u001b[39;49m\u001b[38;5;124;43m'\u001b[39;49m\u001b[38;5;124;43mutr8\u001b[39;49m\u001b[38;5;124;43m'\u001b[39;49m\u001b[43m)\u001b[49m\n\u001b[0;32m      6\u001b[0m \u001b[38;5;28mprint\u001b[39m(\u001b[38;5;124m\"\u001b[39m\u001b[38;5;124mthe file is open\u001b[39m\u001b[38;5;124m\"\u001b[39m)\n\u001b[0;32m      7\u001b[0m f\u001b[38;5;241m.\u001b[39mclose()\n",
      "File \u001b[1;32m~\\anaconda3\\lib\\site-packages\\IPython\\core\\interactiveshell.py:282\u001b[0m, in \u001b[0;36m_modified_open\u001b[1;34m(file, *args, **kwargs)\u001b[0m\n\u001b[0;32m    275\u001b[0m \u001b[38;5;28;01mif\u001b[39;00m file \u001b[38;5;129;01min\u001b[39;00m {\u001b[38;5;241m0\u001b[39m, \u001b[38;5;241m1\u001b[39m, \u001b[38;5;241m2\u001b[39m}:\n\u001b[0;32m    276\u001b[0m     \u001b[38;5;28;01mraise\u001b[39;00m \u001b[38;5;167;01mValueError\u001b[39;00m(\n\u001b[0;32m    277\u001b[0m         \u001b[38;5;124mf\u001b[39m\u001b[38;5;124m\"\u001b[39m\u001b[38;5;124mIPython won\u001b[39m\u001b[38;5;124m'\u001b[39m\u001b[38;5;124mt let you open fd=\u001b[39m\u001b[38;5;132;01m{\u001b[39;00mfile\u001b[38;5;132;01m}\u001b[39;00m\u001b[38;5;124m by default \u001b[39m\u001b[38;5;124m\"\u001b[39m\n\u001b[0;32m    278\u001b[0m         \u001b[38;5;124m\"\u001b[39m\u001b[38;5;124mas it is likely to crash IPython. If you know what you are doing, \u001b[39m\u001b[38;5;124m\"\u001b[39m\n\u001b[0;32m    279\u001b[0m         \u001b[38;5;124m\"\u001b[39m\u001b[38;5;124myou can use builtins\u001b[39m\u001b[38;5;124m'\u001b[39m\u001b[38;5;124m open.\u001b[39m\u001b[38;5;124m\"\u001b[39m\n\u001b[0;32m    280\u001b[0m     )\n\u001b[1;32m--> 282\u001b[0m \u001b[38;5;28;01mreturn\u001b[39;00m io_open(file, \u001b[38;5;241m*\u001b[39margs, \u001b[38;5;241m*\u001b[39m\u001b[38;5;241m*\u001b[39mkwargs)\n",
      "\u001b[1;31mFileNotFoundError\u001b[0m: [Errno 2] No such file or directory: 'file.txt'"
     ]
    }
   ],
   "source": [
    "#text file\n",
    "#Q.a open file using open()\n",
    "#B.colse the file using close()\n",
    "#Q.C read thev file using read()\n",
    "f=open(\"file.txt\",encoding='utr8')\n",
    "print(\"the file is open\")\n",
    "f.close()\n",
    "\n"
   ]
  },
  {
   "cell_type": "code",
   "execution_count": null,
   "id": "45ac8a32",
   "metadata": {},
   "outputs": [],
   "source": []
  }
 ],
 "metadata": {
  "kernelspec": {
   "display_name": "Python 3 (ipykernel)",
   "language": "python",
   "name": "python3"
  },
  "language_info": {
   "codemirror_mode": {
    "name": "ipython",
    "version": 3
   },
   "file_extension": ".py",
   "mimetype": "text/x-python",
   "name": "python",
   "nbconvert_exporter": "python",
   "pygments_lexer": "ipython3",
   "version": "3.10.9"
  }
 },
 "nbformat": 4,
 "nbformat_minor": 5
}
