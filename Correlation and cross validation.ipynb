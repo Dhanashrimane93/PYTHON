{
 "cells": [
  {
   "cell_type": "code",
   "execution_count": 1,
   "id": "e618b074",
   "metadata": {},
   "outputs": [],
   "source": [
    "import numpy as np\n",
    "import pandas as pd"
   ]
  },
  {
   "cell_type": "code",
   "execution_count": 2,
   "id": "4c941b06",
   "metadata": {},
   "outputs": [
    {
     "name": "stdout",
     "output_type": "stream",
     "text": [
      "6 6\n",
      "<class 'list'> <class 'list'>\n"
     ]
    }
   ],
   "source": [
    "a=[17,21,23,28,42,46]\n",
    "b=[3,6,7,11,19,22]\n",
    "print(len(a),len(b))\n",
    "print(type(a),type(b))\n",
    "      "
   ]
  },
  {
   "cell_type": "code",
   "execution_count": 5,
   "id": "5ccc56a4",
   "metadata": {},
   "outputs": [
    {
     "name": "stdout",
     "output_type": "stream",
     "text": [
      "[[1.         0.99884808]\n",
      " [0.99884808 1.        ]]\n"
     ]
    }
   ],
   "source": [
    "corr=np.corrcoef(a,b)\n",
    "print(corr)\n",
    "#  [corr(a,a)   corr(a,b)]\n",
    "#  [corr(b,a)   corr(b,b)]"
   ]
  },
  {
   "cell_type": "code",
   "execution_count": 9,
   "id": "9556511b",
   "metadata": {},
   "outputs": [],
   "source": [
    "def corr_fun(x,y):\n",
    "    xm,ym=np.mean(x),np.mean(y)\n",
    "    s=0\n",
    "    for i in range(len(x)):\n",
    "        s += (x[i]-xm)*(y[i]-ym)\n",
    "    r1=[(i-xm)**2 for i in x]\n",
    "    r2=[(i-ym)**2 for i in y]\n",
    "    den=np.sqrt(sum(r1)*(sum(r1)))\n",
    "    corr_xy=s/den\n",
    "    print(corr_xy)\n",
    "    "
   ]
  },
  {
   "cell_type": "code",
   "execution_count": 12,
   "id": "ab4d6003",
   "metadata": {},
   "outputs": [
    {
     "name": "stdout",
     "output_type": "stream",
     "text": [
      "1.0\n",
      "0.6414825374198146\n",
      "1.5552995391705067\n",
      "1.0\n"
     ]
    }
   ],
   "source": [
    "corr_fun(a,a)\n",
    "corr_fun(a,b)\n",
    "corr_fun(b,a)\n",
    "corr_fun(b,b)"
   ]
  },
  {
   "cell_type": "code",
   "execution_count": 13,
   "id": "3a0f18d4",
   "metadata": {},
   "outputs": [
    {
     "name": "stdout",
     "output_type": "stream",
     "text": [
      "[[1.         0.99884808]\n",
      " [0.99884808 1.        ]]\n"
     ]
    }
   ],
   "source": [
    "print(corr)"
   ]
  },
  {
   "cell_type": "markdown",
   "id": "dc0b847c",
   "metadata": {},
   "source": [
    "### cross validation"
   ]
  },
  {
   "cell_type": "code",
   "execution_count": 14,
   "id": "6a780318",
   "metadata": {},
   "outputs": [],
   "source": [
    "from sklearn.model_selection import KFold"
   ]
  },
  {
   "cell_type": "code",
   "execution_count": 16,
   "id": "1dccac96",
   "metadata": {},
   "outputs": [
    {
     "name": "stdout",
     "output_type": "stream",
     "text": [
      "Train data  ['c' 'd' 'e' 'f'] Test data ['a' 'b']\n",
      "Train data  ['a' 'b' 'e' 'f'] Test data ['c' 'd']\n",
      "Train data  ['a' 'b' 'c' 'd'] Test data ['e' 'f']\n"
     ]
    }
   ],
   "source": [
    "x=np.array(['a','b','c','d','e','f'])\n",
    "kf=KFold(n_splits=3)\n",
    "\n",
    "for train,test in kf.split(x):\n",
    "    print('Train data ',x[train],'Test data',x[test])"
   ]
  },
  {
   "cell_type": "code",
   "execution_count": 17,
   "id": "f9d54cbe",
   "metadata": {},
   "outputs": [
    {
     "name": "stdout",
     "output_type": "stream",
     "text": [
      "Train data ['c' 'd' 'e' 'f'] Test data ['a' 'b']\n",
      "Train data ['a' 'b' 'e' 'f'] Test data ['c' 'd']\n",
      "Train data ['a' 'b' 'c' 'd' 'f'] Test data ['e']\n",
      "Train data ['a' 'b' 'c' 'd' 'e'] Test data ['f']\n"
     ]
    }
   ],
   "source": [
    "x=np.array(['a','b','c','d','e','f'])\n",
    "kf=KFold(n_splits=4)\n",
    "\n",
    "for train,test in kf.split(x):\n",
    "    print('Train data',x[train],'Test data',x[test])"
   ]
  },
  {
   "cell_type": "code",
   "execution_count": 19,
   "id": "11d3b0aa",
   "metadata": {},
   "outputs": [
    {
     "name": "stdout",
     "output_type": "stream",
     "text": [
      "12\n",
      "Train data ['d' 'e' 'f' 'g' 'h' 'i' 'j' 'k' 'l'] Test data ['a' 'b' 'c']\n",
      "Train data ['a' 'b' 'c' 'g' 'h' 'i' 'j' 'k' 'l'] Test data ['d' 'e' 'f']\n",
      "Train data ['a' 'b' 'c' 'd' 'e' 'f' 'i' 'j' 'k' 'l'] Test data ['g' 'h']\n",
      "Train data ['a' 'b' 'c' 'd' 'e' 'f' 'g' 'h' 'k' 'l'] Test data ['i' 'j']\n",
      "Train data ['a' 'b' 'c' 'd' 'e' 'f' 'g' 'h' 'i' 'j'] Test data ['k' 'l']\n"
     ]
    }
   ],
   "source": [
    "x=np.array(['a','b','c','d','e','f','g','h','i','j','k','l'])\n",
    "print(len(x))\n",
    "kf=KFold(n_splits=5)\n",
    "\n",
    "for train,test in kf.split(x):\n",
    "    print('Train data',x[train],'Test data',x[test])"
   ]
  },
  {
   "cell_type": "code",
   "execution_count": null,
   "id": "94029a4d",
   "metadata": {},
   "outputs": [],
   "source": []
  }
 ],
 "metadata": {
  "kernelspec": {
   "display_name": "Python 3 (ipykernel)",
   "language": "python",
   "name": "python3"
  },
  "language_info": {
   "codemirror_mode": {
    "name": "ipython",
    "version": 3
   },
   "file_extension": ".py",
   "mimetype": "text/x-python",
   "name": "python",
   "nbconvert_exporter": "python",
   "pygments_lexer": "ipython3",
   "version": "3.10.9"
  }
 },
 "nbformat": 4,
 "nbformat_minor": 5
}
