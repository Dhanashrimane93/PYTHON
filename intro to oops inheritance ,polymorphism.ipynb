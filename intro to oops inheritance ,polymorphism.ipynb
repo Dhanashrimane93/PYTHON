{
 "cells": [
  {
   "cell_type": "code",
   "execution_count": 3,
   "id": "3a2a964c",
   "metadata": {},
   "outputs": [],
   "source": [
    "#main concept in oops\n",
    "# CLASS\n",
    "class person:\n",
    "    def _init_(self,name,age):\n",
    "        self.name=name\n",
    "        self.age=age\n",
    "        \n",
    "    def walk():\n",
    "        pass\n",
    "    \n",
    "    def eat():\n",
    "        pass\n",
    "        \n",
    "        \n"
   ]
  },
  {
   "cell_type": "code",
   "execution_count": 2,
   "id": "eaa670bd",
   "metadata": {},
   "outputs": [],
   "source": [
    "class person:\n",
    "    def _init_(self,name,age):\n",
    "        self.name=name\n",
    "        self.age=age\n",
    "        \n",
    "        \n",
    "        p1=person(\"shail\",54)\n",
    "        print(p1.name)\n",
    "        print(p1.age)    "
   ]
  },
  {
   "cell_type": "code",
   "execution_count": 4,
   "id": "d5dde203",
   "metadata": {},
   "outputs": [
    {
     "ename": "TypeError",
     "evalue": "person() takes no arguments",
     "output_type": "error",
     "traceback": [
      "\u001b[1;31m---------------------------------------------------------------------------\u001b[0m",
      "\u001b[1;31mTypeError\u001b[0m                                 Traceback (most recent call last)",
      "Cell \u001b[1;32mIn[4], line 2\u001b[0m\n\u001b[0;32m      1\u001b[0m \u001b[38;5;66;03m#initiate a class and create object\u001b[39;00m\n\u001b[1;32m----> 2\u001b[0m p1\u001b[38;5;241m=\u001b[39m\u001b[43mperson\u001b[49m\u001b[43m(\u001b[49m\u001b[38;5;124;43m\"\u001b[39;49m\u001b[38;5;124;43mshail\u001b[39;49m\u001b[38;5;124;43m\"\u001b[39;49m\u001b[43m,\u001b[49m\u001b[38;5;241;43m54\u001b[39;49m\u001b[43m)\u001b[49m\n\u001b[0;32m      3\u001b[0m \u001b[38;5;28mprint\u001b[39m(p1\u001b[38;5;241m.\u001b[39mname)\n\u001b[0;32m      4\u001b[0m \u001b[38;5;28mprint\u001b[39m(p1\u001b[38;5;241m.\u001b[39mage)\n",
      "\u001b[1;31mTypeError\u001b[0m: person() takes no arguments"
     ]
    }
   ],
   "source": [
    "#initiate a class and create object\n",
    "p1=person(\"shail\",54)\n",
    "print(p1.name)\n",
    "print(p1.age)"
   ]
  },
  {
   "cell_type": "code",
   "execution_count": 6,
   "id": "7060b6ec",
   "metadata": {},
   "outputs": [
    {
     "ename": "TypeError",
     "evalue": "person() takes no arguments",
     "output_type": "error",
     "traceback": [
      "\u001b[1;31m---------------------------------------------------------------------------\u001b[0m",
      "\u001b[1;31mTypeError\u001b[0m                                 Traceback (most recent call last)",
      "Cell \u001b[1;32mIn[6], line 12\u001b[0m\n\u001b[0;32m      9\u001b[0m     \u001b[38;5;28mprint\u001b[39m(\u001b[38;5;28mself\u001b[39m\u001b[38;5;241m.\u001b[39mname,\u001b[38;5;28mself\u001b[39m\u001b[38;5;241m.\u001b[39mid)\n\u001b[0;32m     11\u001b[0m \u001b[38;5;66;03m#driver code\u001b[39;00m\n\u001b[1;32m---> 12\u001b[0m emp\u001b[38;5;241m=\u001b[39m\u001b[43mperson\u001b[49m\u001b[43m(\u001b[49m\u001b[38;5;124;43m\"\u001b[39;49m\u001b[38;5;124;43msatyam\u001b[39;49m\u001b[38;5;124;43m\"\u001b[39;49m\u001b[43m,\u001b[49m\u001b[38;5;241;43m102\u001b[39;49m\u001b[43m)\u001b[49m \u001b[38;5;66;03m# an object of person\u001b[39;00m\n\u001b[0;32m     13\u001b[0m emp\u001b[38;5;241m.\u001b[39mdisplay()\n",
      "\u001b[1;31mTypeError\u001b[0m: person() takes no arguments"
     ]
    }
   ],
   "source": [
    "#inheritance\n",
    "class person(object):\n",
    "#constructor\n",
    " def _init_(self,name,id):\n",
    "    self.name=name\n",
    "    self.id=id\n",
    "#to check if this person is an employee\n",
    " def display(self):\n",
    "    print(self.name,self.id)\n",
    "    \n",
    "#driver code\n",
    "emp=person(\"satyam\",102) # an object of person\n",
    "emp.display()"
   ]
  },
  {
   "cell_type": "code",
   "execution_count": 11,
   "id": "7c01d7c5",
   "metadata": {},
   "outputs": [
    {
     "ename": "IndentationError",
     "evalue": "unindent does not match any outer indentation level (<tokenize>, line 13)",
     "output_type": "error",
     "traceback": [
      "\u001b[1;36m  File \u001b[1;32m<tokenize>:13\u001b[1;36m\u001b[0m\n\u001b[1;33m    class employee(person):\u001b[0m\n\u001b[1;37m    ^\u001b[0m\n\u001b[1;31mIndentationError\u001b[0m\u001b[1;31m:\u001b[0m unindent does not match any outer indentation level\n"
     ]
    }
   ],
   "source": [
    "# parent class\n",
    " class  person(object):\n",
    "     #init is known as the consructor\n",
    "        def _init_(self,name,idnumber):\n",
    "            self.name=name\n",
    "            self.idnumber=idnumber\n",
    "            \n",
    "        def display(self):\n",
    "            print(self.name)\n",
    "            print(self.idnumber)\n",
    "            \n",
    "    # child class\n",
    "    class employee(person):\n",
    "        def _init_(self,name,idnumber,salary,post):\n",
    "            self.salary=salary\n",
    "            self.post=post\n",
    "        \n",
    "    #invoking the  _init_of the parent class\n",
    "    person._init_(self,name,idnumber)\n",
    "    \n",
    "    \n",
    "# creation of an object variable\n",
    "a=employee('rahul',886012,200000,\"intern\")\n",
    "# calling a function\n",
    "a.display()"
   ]
  },
  {
   "cell_type": "code",
   "execution_count": 12,
   "id": "57228ba0",
   "metadata": {},
   "outputs": [
    {
     "name": "stdout",
     "output_type": "stream",
     "text": [
      "9\n"
     ]
    }
   ],
   "source": [
    "# POLYMORPHISM\n",
    "def add(x,y,z=0):\n",
    "    return x+y+z\n",
    "\n",
    "\n",
    "#diver code\n",
    "print(add(2,3,4))"
   ]
  },
  {
   "cell_type": "code",
   "execution_count": 13,
   "id": "06d108dc",
   "metadata": {},
   "outputs": [
    {
     "name": "stdout",
     "output_type": "stream",
     "text": [
      "new delhi is the capital of india.\n",
      "hindi is the most widely spoken language of india.\n",
      "india is developing country.\n",
      "washington DC,is the capital of usa.\n",
      "english is the most widely spoken language of usa.\n",
      "usa is developed country.\n"
     ]
    }
   ],
   "source": [
    "class india():\n",
    "    def capital(self):\n",
    "        print(\"new delhi is the capital of india.\")\n",
    "        \n",
    "    def language(self):\n",
    "        print(\"hindi is the most widely spoken language of india.\")\n",
    "        \n",
    "    def type(self):\n",
    "        print(\"india is developing country.\")\n",
    "        \n",
    "class usa():\n",
    "    def capital(self):\n",
    "        print(\"washington DC,is the capital of usa.\")\n",
    "        \n",
    "    def language(self):\n",
    "        print(\"english is the most widely spoken language of usa.\")\n",
    "        \n",
    "    def type(self):\n",
    "        print(\"usa is developed country.\")\n",
    "        \n",
    "obj_ind=india()\n",
    "obj_usa=usa()\n",
    "for country in(obj_ind,obj_usa):\n",
    "    country.capital()\n",
    "    country.language()\n",
    "    country.type()\n",
    "        "
   ]
  },
  {
   "cell_type": "code",
   "execution_count": null,
   "id": "875df1d0",
   "metadata": {},
   "outputs": [],
   "source": []
  }
 ],
 "metadata": {
  "kernelspec": {
   "display_name": "Python 3 (ipykernel)",
   "language": "python",
   "name": "python3"
  },
  "language_info": {
   "codemirror_mode": {
    "name": "ipython",
    "version": 3
   },
   "file_extension": ".py",
   "mimetype": "text/x-python",
   "name": "python",
   "nbconvert_exporter": "python",
   "pygments_lexer": "ipython3",
   "version": "3.10.9"
  }
 },
 "nbformat": 4,
 "nbformat_minor": 5
}
