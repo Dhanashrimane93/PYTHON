{
 "cells": [
  {
   "cell_type": "code",
   "execution_count": 2,
   "id": "e02fa4e4",
   "metadata": {},
   "outputs": [],
   "source": [
    "#Q.1 import the dataset find its shape and the descriptive statistic for numerical column \n",
    "\n",
    "import pandas as pd\n",
    "import numpy as np"
   ]
  },
  {
   "cell_type": "code",
   "execution_count": null,
   "id": "c687167a",
   "metadata": {},
   "outputs": [],
   "source": [
    "data=pd.read_csv('regularseasoncompactreesults.csv')\n",
    "data.head()#top 5 rows\n",
    "data.shape\n",
    "data.describe()"
   ]
  },
  {
   "cell_type": "code",
   "execution_count": null,
   "id": "1cc3c514",
   "metadata": {},
   "outputs": [],
   "source": [
    "#Q.2 write the season being 1985 find the sum of wscore\n",
    "r1=data[data['season']==1985]\n",
    "print(r1['wscore'].sum())"
   ]
  },
  {
   "cell_type": "code",
   "execution_count": null,
   "id": "80aa6345",
   "metadata": {},
   "outputs": [],
   "source": [
    "#Q.3 find the minimum and maximum lscore for the season 2016\n",
    "r2=data[data['season']==2016]\n",
    "r2.head()\n",
    "print(r2['lscore'].min())\n",
    "print(r2['lscore'].max())"
   ]
  },
  {
   "cell_type": "code",
   "execution_count": null,
   "id": "a7c0d7db",
   "metadata": {},
   "outputs": [],
   "source": [
    "#Q.4 find the variance and standard deviation of lscore and wscore for the season 1986\n",
    "r3=data[data['season']==1986]\n",
    "r3.head()\n",
    "r3[['lscore','wscore']].std()\n",
    "r3[['lscore','wscore']].var()"
   ]
  },
  {
   "cell_type": "code",
   "execution_count": null,
   "id": "5d68bdee",
   "metadata": {},
   "outputs": [],
   "source": [
    "#Q.5 find the count of wteam for the season 1989\n",
    "\n",
    "r4=data[data['season']==1989]\n",
    "r5=r4['wteam'].count()\n",
    "r5"
   ]
  },
  {
   "cell_type": "code",
   "execution_count": null,
   "id": "0d1c0528",
   "metadata": {},
   "outputs": [],
   "source": []
  }
 ],
 "metadata": {
  "kernelspec": {
   "display_name": "Python 3 (ipykernel)",
   "language": "python",
   "name": "python3"
  },
  "language_info": {
   "codemirror_mode": {
    "name": "ipython",
    "version": 3
   },
   "file_extension": ".py",
   "mimetype": "text/x-python",
   "name": "python",
   "nbconvert_exporter": "python",
   "pygments_lexer": "ipython3",
   "version": "3.10.9"
  }
 },
 "nbformat": 4,
 "nbformat_minor": 5
}
