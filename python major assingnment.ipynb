{
 "cells": [
  {
   "cell_type": "code",
   "execution_count": 1,
   "id": "1a06c700",
   "metadata": {},
   "outputs": [
    {
     "name": "stdout",
     "output_type": "stream",
     "text": [
      "<class 'int'>\n"
     ]
    }
   ],
   "source": [
    "# Q.1 find the data type of this two declaration:\n",
    "x=5\n",
    "print(type(x))"
   ]
  },
  {
   "cell_type": "code",
   "execution_count": 2,
   "id": "efcde38b",
   "metadata": {},
   "outputs": [
    {
     "name": "stdout",
     "output_type": "stream",
     "text": [
      "<class 'str'>\n"
     ]
    }
   ],
   "source": [
    "y=\"john\"\n",
    "print(type(y))"
   ]
  },
  {
   "cell_type": "code",
   "execution_count": 3,
   "id": "0f38b420",
   "metadata": {},
   "outputs": [
    {
     "ename": "SyntaxError",
     "evalue": "invalid decimal literal (2773836574.py, line 2)",
     "output_type": "error",
     "traceback": [
      "\u001b[1;36m  Cell \u001b[1;32mIn[3], line 2\u001b[1;36m\u001b[0m\n\u001b[1;33m    3a=10\u001b[0m\n\u001b[1;37m    ^\u001b[0m\n\u001b[1;31mSyntaxError\u001b[0m\u001b[1;31m:\u001b[0m invalid decimal literal\n"
     ]
    }
   ],
   "source": [
    "# Q.2 check wether the following syntax is valid or invalid for naming a variable:\n",
    "3a=10\n",
    "print(3a)"
   ]
  },
  {
   "cell_type": "code",
   "execution_count": 4,
   "id": "4841ec2e",
   "metadata": {},
   "outputs": [
    {
     "ename": "SyntaxError",
     "evalue": "invalid syntax. Maybe you meant '==' or ':=' instead of '='? (2702822024.py, line 1)",
     "output_type": "error",
     "traceback": [
      "\u001b[1;36m  Cell \u001b[1;32mIn[4], line 1\u001b[1;36m\u001b[0m\n\u001b[1;33m    @abc=10\u001b[0m\n\u001b[1;37m     ^\u001b[0m\n\u001b[1;31mSyntaxError\u001b[0m\u001b[1;31m:\u001b[0m invalid syntax. Maybe you meant '==' or ':=' instead of '='?\n"
     ]
    }
   ],
   "source": [
    "@abc=10\n",
    "print(@abc)"
   ]
  },
  {
   "cell_type": "code",
   "execution_count": 5,
   "id": "8db9661a",
   "metadata": {},
   "outputs": [
    {
     "name": "stdout",
     "output_type": "stream",
     "text": [
      "100\n"
     ]
    }
   ],
   "source": [
    "a100=100\n",
    "print(a100)"
   ]
  },
  {
   "cell_type": "code",
   "execution_count": 7,
   "id": "e007e28a",
   "metadata": {},
   "outputs": [
    {
     "name": "stdout",
     "output_type": "stream",
     "text": [
      "100\n"
     ]
    }
   ],
   "source": [
    "_a984_=100\n",
    "print(_a984_)"
   ]
  },
  {
   "cell_type": "code",
   "execution_count": 8,
   "id": "499856ad",
   "metadata": {},
   "outputs": [
    {
     "ename": "SyntaxError",
     "evalue": "invalid syntax (996261825.py, line 1)",
     "output_type": "error",
     "traceback": [
      "\u001b[1;36m  Cell \u001b[1;32mIn[8], line 1\u001b[1;36m\u001b[0m\n\u001b[1;33m    a9967$=100\u001b[0m\n\u001b[1;37m         ^\u001b[0m\n\u001b[1;31mSyntaxError\u001b[0m\u001b[1;31m:\u001b[0m invalid syntax\n"
     ]
    }
   ],
   "source": [
    "a9967$=100\n",
    "print(a9967$)"
   ]
  },
  {
   "cell_type": "code",
   "execution_count": 9,
   "id": "252b3594",
   "metadata": {},
   "outputs": [
    {
     "ename": "SyntaxError",
     "evalue": "cannot assign to expression here. Maybe you meant '==' instead of '='? (3058229174.py, line 1)",
     "output_type": "error",
     "traceback": [
      "\u001b[1;36m  Cell \u001b[1;32mIn[9], line 1\u001b[1;36m\u001b[0m\n\u001b[1;33m    xyz-2=100\u001b[0m\n\u001b[1;37m    ^\u001b[0m\n\u001b[1;31mSyntaxError\u001b[0m\u001b[1;31m:\u001b[0m cannot assign to expression here. Maybe you meant '==' instead of '='?\n"
     ]
    }
   ],
   "source": [
    "xyz-2=100\n",
    "print(xyz-2)"
   ]
  },
  {
   "cell_type": "code",
   "execution_count": 15,
   "id": "7f554c12",
   "metadata": {},
   "outputs": [
    {
     "name": "stdout",
     "output_type": "stream",
     "text": [
      "3 is exist in list\n",
      "9 is not exist in list\n"
     ]
    }
   ],
   "source": [
    "# Q.3 Check if element exists in list in python:\n",
    "test_list=[1,6,3,5,3,4]\n",
    "#1.check if 3 exist or not\n",
    "if 3 in test_list:\n",
    "    print(\"3 is exist in list\")\n",
    "else:\n",
    "    print(\"3 is not exist in list\")\n",
    "#2.check if 9 exist or not\n",
    "if 9 in test_list:\n",
    "    print(\"9 is exist in list\")\n",
    "else:\n",
    "    print(\"9 is not exist in list\")\n",
    "    "
   ]
  },
  {
   "cell_type": "code",
   "execution_count": 25,
   "id": "63c2a39a",
   "metadata": {},
   "outputs": [
    {
     "name": "stdout",
     "output_type": "stream",
     "text": [
      "enter a year:2023\n",
      "enter a month:4\n",
      "enter a day:30\n",
      "2023-04-30\n"
     ]
    }
   ],
   "source": [
    "# Q.4 take the user input and print the current date:\n",
    "from datetime import date, datetime\n",
    "year=int(input('enter a year:'))\n",
    "month=int(input('enter a month:'))\n",
    "day=int(input('enter a day:'))\n",
    "d=date(year,month,day)\n",
    "print(d)"
   ]
  },
  {
   "cell_type": "code",
   "execution_count": 26,
   "id": "62c58981",
   "metadata": {},
   "outputs": [
    {
     "name": "stdout",
     "output_type": "stream",
     "text": [
      "4\n"
     ]
    }
   ],
   "source": [
    "#Q.5 whate is the output of the following code:\n",
    "#a.\n",
    "print(9//2)"
   ]
  },
  {
   "cell_type": "code",
   "execution_count": 27,
   "id": "c32f55aa",
   "metadata": {},
   "outputs": [
    {
     "name": "stdout",
     "output_type": "stream",
     "text": [
      "1\n"
     ]
    }
   ],
   "source": [
    "#b.\n",
    "print(9%2)"
   ]
  },
  {
   "cell_type": "code",
   "execution_count": 28,
   "id": "dd916fca",
   "metadata": {},
   "outputs": [
    {
     "name": "stdout",
     "output_type": "stream",
     "text": [
      "1\n",
      "2\n",
      "3\n",
      "4\n",
      "5\n",
      "6\n",
      "7\n",
      "8\n",
      "9\n",
      "10\n"
     ]
    }
   ],
   "source": [
    "#Q.6 print first 10 natural number using a while loop:\n",
    "i=1\n",
    "while(i<=10):\n",
    "    print(i)\n",
    "    i +=1"
   ]
  },
  {
   "cell_type": "code",
   "execution_count": 31,
   "id": "9b4d39a9",
   "metadata": {},
   "outputs": [
    {
     "name": "stdout",
     "output_type": "stream",
     "text": [
      "enter a number:20\n",
      "the sum of all numbers from 1 to the given number is: 0\n",
      "the sum of all numbers from 1 to the given number is: 1\n",
      "the sum of all numbers from 1 to the given number is: 3\n",
      "the sum of all numbers from 1 to the given number is: 6\n",
      "the sum of all numbers from 1 to the given number is: 10\n",
      "the sum of all numbers from 1 to the given number is: 15\n",
      "the sum of all numbers from 1 to the given number is: 21\n",
      "the sum of all numbers from 1 to the given number is: 28\n",
      "the sum of all numbers from 1 to the given number is: 36\n",
      "the sum of all numbers from 1 to the given number is: 45\n",
      "the sum of all numbers from 1 to the given number is: 55\n",
      "the sum of all numbers from 1 to the given number is: 66\n",
      "the sum of all numbers from 1 to the given number is: 78\n",
      "the sum of all numbers from 1 to the given number is: 91\n",
      "the sum of all numbers from 1 to the given number is: 105\n",
      "the sum of all numbers from 1 to the given number is: 120\n",
      "the sum of all numbers from 1 to the given number is: 136\n",
      "the sum of all numbers from 1 to the given number is: 153\n",
      "the sum of all numbers from 1 to the given number is: 171\n",
      "the sum of all numbers from 1 to the given number is: 190\n",
      "the sum of all numbers from 1 to the given number is: 210\n"
     ]
    }
   ],
   "source": [
    "# Q.7 write a program to accept a number from user and calculate the sum of all numbers from 1 to a\n",
    "#given number.\n",
    "#for example,if the user intered 10 the output should be 55. (1+2+3+4+5+6+7+8+9+10)\n",
    "\n",
    "n=int(input(\"enter a number:\"))\n",
    "s=0\n",
    "for i in range(n+1):\n",
    "    s +=i\n",
    "    print(\"the sum of all numbers from 1 to the given number is:\",s)"
   ]
  },
  {
   "cell_type": "code",
   "execution_count": 3,
   "id": "1d72db6b",
   "metadata": {},
   "outputs": [
    {
     "name": "stdout",
     "output_type": "stream",
     "text": [
      "1\n",
      "2\n",
      "fizz\n",
      "4\n",
      "buzz\n",
      "fizz\n",
      "7\n",
      "8\n",
      "fizz\n",
      "buzz\n",
      "11\n",
      "fizz\n",
      "13\n",
      "14\n",
      "fizzbuzz\n",
      "16\n",
      "17\n",
      "fizz\n",
      "19\n",
      "buzz\n",
      "fizz\n",
      "22\n",
      "23\n",
      "fizz\n",
      "buzz\n",
      "26\n",
      "fizz\n",
      "28\n",
      "29\n",
      "fizzbuzz\n",
      "31\n",
      "32\n",
      "fizz\n",
      "34\n",
      "buzz\n",
      "fizz\n",
      "37\n",
      "38\n",
      "fizz\n",
      "buzz\n",
      "41\n",
      "fizz\n",
      "43\n",
      "44\n",
      "fizzbuzz\n",
      "46\n",
      "47\n",
      "fizz\n",
      "49\n",
      "buzz\n"
     ]
    }
   ],
   "source": [
    "# Q.8 write a python program which iterates the integer from 1 to 50.for multiples of three print\"fizz\"\n",
    "# instead of the number and for the multiles of 5 print \"buzz\".for number which are both multiple of 3 \n",
    "#  and 5 print \"fizzbuzz\".\n",
    "\n",
    "for num in range(1,51):\n",
    "    # cheaking that number is divisible by both 3 and 5\n",
    "    if (num%3==0 and num%5==0):\n",
    "        print(\"fizzbuzz\")\n",
    "    # cheaking that number is divisible by 3\n",
    "    elif (num%3 == 0):\n",
    "        print(\"fizz\")\n",
    "    # cheaking that number is divisible by 5\n",
    "    elif (num%5 == 0):\n",
    "        print(\"buzz\")\n",
    "    # and if not divisible by either of them print num as it is\n",
    "    else:\n",
    "        print(num)\n",
    "        "
   ]
  },
  {
   "cell_type": "code",
   "execution_count": null,
   "id": "203e03fa",
   "metadata": {},
   "outputs": [],
   "source": []
  }
 ],
 "metadata": {
  "kernelspec": {
   "display_name": "Python 3 (ipykernel)",
   "language": "python",
   "name": "python3"
  },
  "language_info": {
   "codemirror_mode": {
    "name": "ipython",
    "version": 3
   },
   "file_extension": ".py",
   "mimetype": "text/x-python",
   "name": "python",
   "nbconvert_exporter": "python",
   "pygments_lexer": "ipython3",
   "version": "3.10.9"
  }
 },
 "nbformat": 4,
 "nbformat_minor": 5
}
