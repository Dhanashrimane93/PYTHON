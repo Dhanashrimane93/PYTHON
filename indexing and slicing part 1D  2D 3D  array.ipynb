{
 "cells": [
  {
   "cell_type": "code",
   "execution_count": 2,
   "id": "3786879e",
   "metadata": {},
   "outputs": [],
   "source": [
    "# ARRAY INDEXING\n",
    "\n",
    "import numpy as np"
   ]
  },
  {
   "cell_type": "code",
   "execution_count": 5,
   "id": "b01a665f",
   "metadata": {},
   "outputs": [
    {
     "name": "stdout",
     "output_type": "stream",
     "text": [
      "[12 13 14 15 16 17 18 19 20 21 22 23 24 25]\n",
      "14\n",
      "1\n",
      "(14,)\n",
      "14\n",
      "int32\n"
     ]
    }
   ],
   "source": [
    "a=np.array([12,13,14,15,16,17,18,19,20,21,22,23,24,25,])\n",
    "print(a)\n",
    "print(len(a))\n",
    "print(a.ndim)\n",
    "print(a.shape)\n",
    "print(a.size)\n",
    "print(a.dtype)"
   ]
  },
  {
   "cell_type": "code",
   "execution_count": 5,
   "id": "a8da36b0",
   "metadata": {},
   "outputs": [
    {
     "name": "stdout",
     "output_type": "stream",
     "text": [
      "[12 13 14 15 16 17 18 19 20 21 22 23 24 25]\n",
      "12\n",
      "16\n",
      "20\n",
      "24\n",
      "19\n",
      "21\n"
     ]
    }
   ],
   "source": [
    "# indexing in 1d array\n",
    "print(a)\n",
    "print(a[0])\n",
    "print(a[4])\n",
    "print(a[8])\n",
    "print(a[-2])\n",
    "print(a[-7])\n",
    "print(a[-5])"
   ]
  },
  {
   "cell_type": "code",
   "execution_count": 7,
   "id": "1d9417a0",
   "metadata": {},
   "outputs": [
    {
     "name": "stdout",
     "output_type": "stream",
     "text": [
      "[12 13 14 15 16 17 18 19 20 21 22 23 24 25]\n",
      "[14 15 16]\n",
      "[15 16 17 18 19 20 21 22 23 24 25]\n",
      "[12 13 14 15 16 17]\n",
      "[22 23 24 25]\n",
      "[12 13 14 15 16 17 18 19]\n",
      "[12 13 14 15 16 17 18 19 20 21 22 23 24 25]\n"
     ]
    }
   ],
   "source": [
    "#1D SLICING\n",
    "\n",
    "print(a)\n",
    "print(a[2:5])\n",
    "print(a[3:])\n",
    "print(a[:6])\n",
    "print(a[-4:])\n",
    "print(a[:-6])\n",
    "print(a[:])\n"
   ]
  },
  {
   "cell_type": "code",
   "execution_count": 10,
   "id": "0cc1a584",
   "metadata": {},
   "outputs": [
    {
     "name": "stdout",
     "output_type": "stream",
     "text": [
      "[12 13 14 15 16 17 18 19 20 21 22 23 24 25]\n",
      "[13 15 17 19]\n",
      "[15 16 17 18]\n",
      "[15 17]\n",
      "[24 22 20]\n",
      "[24 21 18]\n",
      "[15 18 21 24]\n"
     ]
    }
   ],
   "source": [
    "print(a)\n",
    "print(a[1:8:2])\n",
    "print(a[3:-7])\n",
    "print(a[3:-7:2])\n",
    "print(a[-2:-8:-2])\n",
    "print(a[-2:3:-3])\n",
    "print(a[3:13:3])\n"
   ]
  },
  {
   "cell_type": "code",
   "execution_count": 11,
   "id": "8d370700",
   "metadata": {},
   "outputs": [],
   "source": [
    "# 2D ARRAY\n",
    "\n",
    "import numpy as np"
   ]
  },
  {
   "cell_type": "code",
   "execution_count": 14,
   "id": "e7964820",
   "metadata": {},
   "outputs": [
    {
     "name": "stdout",
     "output_type": "stream",
     "text": [
      "[[31 32 33 34]\n",
      " [35 36 37 38]\n",
      " [39 40 41 42]\n",
      " [43 44 45 46]]\n",
      "2\n",
      "(4, 4)\n",
      "16\n",
      "int32\n"
     ]
    }
   ],
   "source": [
    "b=np.array([[31,32,33,34],[35,36,37,38],\n",
    "           [39,40,41,42],[43,44,45,46]])\n",
    "print(b)\n",
    "print(b.ndim)\n",
    "nt(print(b.shape)\n",
    "print(b.size)\n",
    "print(b.dtype)"
   ]
  },
  {
   "cell_type": "code",
   "execution_count": 21,
   "id": "9d6d2a7e",
   "metadata": {},
   "outputs": [
    {
     "name": "stdout",
     "output_type": "stream",
     "text": [
      "[[31 32 33 34]\n",
      " [35 36 37 38]\n",
      " [39 40 41 42]\n",
      " [43 44 45 46]]\n"
     ]
    }
   ],
   "source": [
    "# 2D INDEXING\n",
    "\n",
    "print(b)\n"
   ]
  },
  {
   "cell_type": "code",
   "execution_count": 22,
   "id": "57d1b0ee",
   "metadata": {},
   "outputs": [
    {
     "name": "stdout",
     "output_type": "stream",
     "text": [
      "[[31 32 33 34]\n",
      " [35 36 37 38]\n",
      " [39 40 41 42]\n",
      " [43 44 45 46]]\n"
     ]
    }
   ],
   "source": [
    "#2D SLICING\n",
    "\n",
    "print(b)"
   ]
  },
  {
   "cell_type": "code",
   "execution_count": 23,
   "id": "9588aa84",
   "metadata": {},
   "outputs": [
    {
     "name": "stdout",
     "output_type": "stream",
     "text": [
      "[43 44 45 46]\n",
      "[[31 32 33 34]\n",
      " [35 36 37 38]\n",
      " [39 40 41 42]]\n",
      "[34 38 42 46]\n",
      "[39 40]\n"
     ]
    }
   ],
   "source": [
    "print(b[-1])\n",
    "print(b[:-1])\n",
    "print(b[:,-1])\n",
    "print(b[-2,:-2])\n"
   ]
  },
  {
   "cell_type": "code",
   "execution_count": 24,
   "id": "579875af",
   "metadata": {},
   "outputs": [
    {
     "name": "stdout",
     "output_type": "stream",
     "text": [
      "[[38]\n",
      " [42]\n",
      " [46]]\n"
     ]
    }
   ],
   "source": [
    "print(b[1:,3:]) # start_row=1,step row=1,start col=3,step col= +1"
   ]
  },
  {
   "cell_type": "code",
   "execution_count": 25,
   "id": "b88c5d2c",
   "metadata": {},
   "outputs": [
    {
     "name": "stdout",
     "output_type": "stream",
     "text": [
      "[[39 40 41]\n",
      " [43 44 45]]\n",
      "[[37 38]\n",
      " [41 42]\n",
      " [45 46]]\n",
      "[[31 32 33 34]\n",
      " [35 36 37 38]]\n",
      "[[31 32 33 34]\n",
      " [39 40 41 42]]\n"
     ]
    }
   ],
   "source": [
    "print(b[-2:,:-1])\n",
    "print(b[1:,2:])\n",
    "print(b[:2,0:])\n",
    "print(b[::2,:])"
   ]
  },
  {
   "cell_type": "code",
   "execution_count": 26,
   "id": "67d4c800",
   "metadata": {},
   "outputs": [
    {
     "name": "stdout",
     "output_type": "stream",
     "text": [
      "[[31 33]\n",
      " [35 37]]\n"
     ]
    }
   ],
   "source": [
    "print(b[:2,::2])"
   ]
  },
  {
   "cell_type": "code",
   "execution_count": 28,
   "id": "365dcb80",
   "metadata": {},
   "outputs": [
    {
     "name": "stdout",
     "output_type": "stream",
     "text": [
      "[[36 38]\n",
      " [44 46]]\n",
      "[[31 34]\n",
      " [39 42]]\n",
      "[36 32]\n"
     ]
    }
   ],
   "source": [
    "print(b[1::2,1::2])\n",
    "print(b[0::2,0::3])\n",
    "print(b[-3::-1,-3])"
   ]
  },
  {
   "cell_type": "code",
   "execution_count": 29,
   "id": "82d05d86",
   "metadata": {},
   "outputs": [
    {
     "name": "stdout",
     "output_type": "stream",
     "text": [
      "[[45 46]]\n",
      "[[43 44 45]\n",
      " [39 40 41]]\n",
      "[[31 34]\n",
      " [43 46]]\n",
      "[[46 43]\n",
      " [34 31]]\n"
     ]
    }
   ],
   "source": [
    "print(b[:2:-1,2::])\n",
    "print(b[:1:-1,:3])\n",
    "print(b[0::3,0::3])\n",
    "print(b[-1::-3,-1::-3])"
   ]
  },
  {
   "cell_type": "code",
   "execution_count": 30,
   "id": "c383cc83",
   "metadata": {},
   "outputs": [
    {
     "name": "stdout",
     "output_type": "stream",
     "text": [
      "[[36 37]\n",
      " [40 41]]\n",
      "[[42 39]\n",
      " [38 35]]\n",
      "[[41 40]\n",
      " [33 32]]\n",
      "[[41 40]\n",
      " [33 32]]\n"
     ]
    }
   ],
   "source": [
    "print(b[1:3,1:3])\n",
    "print(b[-2:-4:-1,-1::-3])\n",
    "print(b[-2::-2,-2:-4:-1])\n",
    "print(b[-2::-2,-2:0:-1])"
   ]
  },
  {
   "cell_type": "code",
   "execution_count": 31,
   "id": "115d7cdf",
   "metadata": {},
   "outputs": [
    {
     "name": "stdout",
     "output_type": "stream",
     "text": [
      "[31 36 41]\n",
      "[31 36 41 46 33 45]\n",
      "[34 37 40 43]\n",
      "[35 40 45 39]\n"
     ]
    }
   ],
   "source": [
    "# 2D ADVANCED INDEXING AND SLICING\n",
    "\n",
    "\n",
    "print(b[[0,1,2],[0,1,2]])\n",
    "print(b[[0,1,2,3,0,3],[0,1,2,3,2,2,]])\n",
    "print(b[[0,1,2,3],[3,2,1,0]])\n",
    "print(b[[1,2,-1,-2],[0,1,-2,-4]])"
   ]
  },
  {
   "cell_type": "code",
   "execution_count": 33,
   "id": "d21e1cf1",
   "metadata": {},
   "outputs": [
    {
     "name": "stdout",
     "output_type": "stream",
     "text": [
      "[[[ 0  1  2  3]\n",
      "  [ 4  5  6  7]\n",
      "  [ 8  9 10 11]\n",
      "  [12 13 14 15]]\n",
      "\n",
      " [[16 17 18 19]\n",
      "  [20 21 22 23]\n",
      "  [24 25 26 27]\n",
      "  [28 29 30 31]]]\n",
      "int32\n",
      "(2, 4, 4)\n",
      "32\n",
      "3\n"
     ]
    }
   ],
   "source": [
    "#3D ARRAY indexing\n",
    "\n",
    "a=np.arange(32).reshape(2,4,4)\n",
    "print(a)\n",
    "print(a.dtype)\n",
    "print(a.shape)\n",
    "print(a.size)\n",
    "print(a.ndim)"
   ]
  },
  {
   "cell_type": "code",
   "execution_count": 35,
   "id": "98af134b",
   "metadata": {},
   "outputs": [
    {
     "name": "stdout",
     "output_type": "stream",
     "text": [
      "[[ 0  1  2  3]\n",
      " [ 4  5  6  7]\n",
      " [ 8  9 10 11]\n",
      " [12 13 14 15]]\n",
      "[24 25 26 27]\n",
      "25\n",
      "[1, 2, 2]\n",
      "3\n",
      "30\n"
     ]
    }
   ],
   "source": [
    "print(a[-2])\n",
    "print(a[-1][-2])\n",
    "print(a[-1][-2][-3])\n",
    "print([--1,2,2])\n",
    "print(a[-2][0][-1])\n",
    "print(a[1,3,2])\n"
   ]
  },
  {
   "cell_type": "code",
   "execution_count": 37,
   "id": "df82a553",
   "metadata": {},
   "outputs": [
    {
     "name": "stdout",
     "output_type": "stream",
     "text": [
      "[[[22 23]\n",
      "  [26 27]\n",
      "  [30 31]]]\n",
      "[[[16 17]\n",
      "  [20 21]]]\n",
      "[[[13 14 15]]]\n"
     ]
    }
   ],
   "source": [
    "# 3D slicing\n",
    "\n",
    "print(a[1:,1:,2:])\n",
    "print(a[1:,:2,:2])\n",
    "print(a[0:1,3:,1:])"
   ]
  },
  {
   "cell_type": "code",
   "execution_count": 38,
   "id": "99ff348f",
   "metadata": {},
   "outputs": [
    {
     "name": "stdout",
     "output_type": "stream",
     "text": [
      "[[[ 4  5]\n",
      "  [12 13]]\n",
      "\n",
      " [[20 21]\n",
      "  [28 29]]]\n"
     ]
    }
   ],
   "source": [
    "print(a[0:,1::2,:2])"
   ]
  },
  {
   "cell_type": "code",
   "execution_count": 39,
   "id": "c14d1137",
   "metadata": {},
   "outputs": [
    {
     "name": "stdout",
     "output_type": "stream",
     "text": [
      "[[[16 17 18 19]\n",
      "  [20 21 22 23]\n",
      "  [24 25 26 27]\n",
      "  [28 29 30 31]]]\n",
      "[[[ 0  1  2  3]\n",
      "  [ 4  5  6  7]\n",
      "  [ 8  9 10 11]\n",
      "  [12 13 14 15]]]\n"
     ]
    }
   ],
   "source": [
    "print(a[-1:,:,:])\n",
    "print(a[:-1,:,:])"
   ]
  },
  {
   "cell_type": "code",
   "execution_count": 40,
   "id": "94f0006a",
   "metadata": {},
   "outputs": [
    {
     "name": "stdout",
     "output_type": "stream",
     "text": [
      "[[[11  9]\n",
      "  [ 3  1]]\n",
      "\n",
      " [[27 25]\n",
      "  [19 17]]]\n",
      "[[[15 13]\n",
      "  [ 3  1]]\n",
      "\n",
      " [[31 29]\n",
      "  [19 17]]]\n"
     ]
    }
   ],
   "source": [
    "print(a[-2:,-2::-2,-1::-2])\n",
    "print(a[-2:,-1::-3,-1::-2])"
   ]
  },
  {
   "cell_type": "code",
   "execution_count": 41,
   "id": "1830ddcd",
   "metadata": {},
   "outputs": [
    {
     "name": "stdout",
     "output_type": "stream",
     "text": [
      "[[[13 14]\n",
      "  [ 5  6]]\n",
      "\n",
      " [[29 30]\n",
      "  [21 22]]]\n",
      "[[[ 0  2]\n",
      "  [12 14]]\n",
      "\n",
      " [[16 18]\n",
      "  [28 30]]]\n",
      "[[[ 1  3]\n",
      "  [13 15]]\n",
      "\n",
      " [[17 19]\n",
      "  [29 31]]]\n",
      "[[ 5  9]\n",
      " [21 25]]\n"
     ]
    }
   ],
   "source": [
    "print(a[-2:,-1::-2,1:3])\n",
    "print(a[:,::3,::2])\n",
    "print(a[-2::,-4::3,-3::2])\n",
    "print(a[-2::,-3:-1,1])"
   ]
  },
  {
   "cell_type": "code",
   "execution_count": 42,
   "id": "864e1270",
   "metadata": {},
   "outputs": [
    {
     "name": "stdout",
     "output_type": "stream",
     "text": [
      "[[[27 25]\n",
      "  [23 21]]\n",
      "\n",
      " [[11  9]\n",
      "  [ 7  5]]]\n"
     ]
    }
   ],
   "source": [
    "print(a[::-1,-2:-4:-1,-1::-2])"
   ]
  },
  {
   "cell_type": "code",
   "execution_count": 43,
   "id": "f52f41cf",
   "metadata": {},
   "outputs": [
    {
     "name": "stdout",
     "output_type": "stream",
     "text": [
      "[[[30 29]\n",
      "  [18 17]]\n",
      "\n",
      " [[14 13]\n",
      "  [ 2  1]]]\n"
     ]
    }
   ],
   "source": [
    "print(a[::-1,-1::-3,-2:-4:-1])"
   ]
  },
  {
   "cell_type": "code",
   "execution_count": 45,
   "id": "0d857cda",
   "metadata": {},
   "outputs": [
    {
     "name": "stdout",
     "output_type": "stream",
     "text": [
      "[ 5  3  9 14]\n",
      "[ 6 24 13 18]\n",
      "[ 0  5 10 14 25]\n"
     ]
    }
   ],
   "source": [
    "#3D ADVANCED INDEXING SLICING\n",
    "\n",
    "print(a[[0,0,0,0,],[1,0,2,3,],[1,3,1,2]])\n",
    "print(a[[0,1,0,1],[1,2,3,0],[2,0,1,2]])\n",
    "print(a[[0,0,0,0,1],[0,1,2,3,2],[0,1,2,2,1]])"
   ]
  },
  {
   "cell_type": "code",
   "execution_count": null,
   "id": "7f20b5d9",
   "metadata": {},
   "outputs": [],
   "source": []
  }
 ],
 "metadata": {
  "kernelspec": {
   "display_name": "Python 3 (ipykernel)",
   "language": "python",
   "name": "python3"
  },
  "language_info": {
   "codemirror_mode": {
    "name": "ipython",
    "version": 3
   },
   "file_extension": ".py",
   "mimetype": "text/x-python",
   "name": "python",
   "nbconvert_exporter": "python",
   "pygments_lexer": "ipython3",
   "version": "3.10.9"
  }
 },
 "nbformat": 4,
 "nbformat_minor": 5
}
