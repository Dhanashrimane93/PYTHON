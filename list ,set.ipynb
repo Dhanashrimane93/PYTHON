{
 "cells": [
  {
   "cell_type": "code",
   "execution_count": 7,
   "id": "996c8c62",
   "metadata": {},
   "outputs": [
    {
     "name": "stdout",
     "output_type": "stream",
     "text": [
      "[13, 14, 15, 16, 17]\n"
     ]
    }
   ],
   "source": [
    "list1=[12,13,14,12,12,12,15,16,17]\n",
    "def removevalue(samplelist,val):\n",
    "    return [value for value in samplelist if value !=val]\n",
    "reslist=removevalue(list1,12)\n",
    "print(reslist)"
   ]
  },
  {
   "cell_type": "code",
   "execution_count": 5,
   "id": "f2762c89",
   "metadata": {},
   "outputs": [
    {
     "name": "stdout",
     "output_type": "stream",
     "text": [
      "['my']\n",
      "['my', 'name']\n",
      "['my', 'name', 'is']\n",
      "['my', 'name', 'is', 'dhanashri']\n"
     ]
    }
   ],
   "source": [
    "list1=['m','na','i','dhana']\n",
    "list2=['y','me','s','shri']\n",
    "list3=[]\n",
    "for i in range(len(list1)):\n",
    "    list3.append(list1[i]+list2[i])\n",
    "    print(list3)"
   ]
  },
  {
   "cell_type": "code",
   "execution_count": 1,
   "id": "4db77149",
   "metadata": {},
   "outputs": [
    {
     "name": "stdout",
     "output_type": "stream",
     "text": [
      "['my']\n"
     ]
    }
   ],
   "source": [
    "li1=['m']\n",
    "li2=['y']\n",
    "li3=[]\n",
    "for i in range(len(li1)):\n",
    "    li3.append(li1[i]+li2[i])\n",
    "    print(li3)"
   ]
  },
  {
   "cell_type": "code",
   "execution_count": 11,
   "id": "c9fa9b78",
   "metadata": {},
   "outputs": [
    {
     "name": "stdout",
     "output_type": "stream",
     "text": [
      "yes\n"
     ]
    }
   ],
   "source": [
    "thisset={\"apple\",\"bana\",\"cher\"}\n",
    "if 'apple' in thisset:\n",
    "    print(\"yes\")"
   ]
  },
  {
   "cell_type": "code",
   "execution_count": 4,
   "id": "41a561f2",
   "metadata": {},
   "outputs": [
    {
     "data": {
      "text/plain": [
       "{'apple', 'banana', 'cherry', 'grep', 'mango', 'orange'}"
      ]
     },
     "execution_count": 4,
     "metadata": {},
     "output_type": "execute_result"
    }
   ],
   "source": [
    "fruit={\"apple\",\"banana\",\"cherry\"}\n",
    "morefruit=[\"orange\",\"mango\",\"grep\"]\n",
    "fruit.update(morefruit)\n",
    "fruit"
   ]
  },
  {
   "cell_type": "code",
   "execution_count": null,
   "id": "586b8441",
   "metadata": {},
   "outputs": [],
   "source": []
  }
 ],
 "metadata": {
  "kernelspec": {
   "display_name": "Python 3 (ipykernel)",
   "language": "python",
   "name": "python3"
  },
  "language_info": {
   "codemirror_mode": {
    "name": "ipython",
    "version": 3
   },
   "file_extension": ".py",
   "mimetype": "text/x-python",
   "name": "python",
   "nbconvert_exporter": "python",
   "pygments_lexer": "ipython3",
   "version": "3.10.9"
  }
 },
 "nbformat": 4,
 "nbformat_minor": 5
}
