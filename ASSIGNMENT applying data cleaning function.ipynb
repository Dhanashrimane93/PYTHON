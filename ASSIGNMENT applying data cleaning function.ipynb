{
 "cells": [
  {
   "cell_type": "code",
   "execution_count": 1,
   "id": "d78c2e65",
   "metadata": {},
   "outputs": [
    {
     "ename": "NameError",
     "evalue": "name 'data' is not defined",
     "output_type": "error",
     "traceback": [
      "\u001b[1;31m---------------------------------------------------------------------------\u001b[0m",
      "\u001b[1;31mNameError\u001b[0m                                 Traceback (most recent call last)",
      "Cell \u001b[1;32mIn[1], line 3\u001b[0m\n\u001b[0;32m      1\u001b[0m \u001b[38;5;66;03m# Q.1 FIND OUT THE NUMBER OF VENUES\u001b[39;00m\n\u001b[1;32m----> 3\u001b[0m \u001b[38;5;28mprint\u001b[39m(\u001b[43mdata\u001b[49m[\u001b[38;5;124m'\u001b[39m\u001b[38;5;124mvenue\u001b[39m\u001b[38;5;124m'\u001b[39m]\u001b[38;5;241m.\u001b[39mnunique())\n",
      "\u001b[1;31mNameError\u001b[0m: name 'data' is not defined"
     ]
    }
   ],
   "source": [
    "# Q.1 FIND OUT THE NUMBER OF VENUES\n",
    "\n",
    "print(data['venue'].nunique())"
   ]
  },
  {
   "cell_type": "code",
   "execution_count": 2,
   "id": "aa95cfaf",
   "metadata": {},
   "outputs": [
    {
     "ename": "NameError",
     "evalue": "name 'data' is not defined",
     "output_type": "error",
     "traceback": [
      "\u001b[1;31m---------------------------------------------------------------------------\u001b[0m",
      "\u001b[1;31mNameError\u001b[0m                                 Traceback (most recent call last)",
      "Cell \u001b[1;32mIn[2], line 2\u001b[0m\n\u001b[0;32m      1\u001b[0m \u001b[38;5;66;03m# Q.2 find out the number of times each team emerged as the winner\u001b[39;00m\n\u001b[1;32m----> 2\u001b[0m \u001b[43mdata\u001b[49m[\u001b[38;5;124m'\u001b[39m\u001b[38;5;124mwinner\u001b[39m\u001b[38;5;124m'\u001b[39m]\u001b[38;5;241m.\u001b[39mvalue_counts()\n",
      "\u001b[1;31mNameError\u001b[0m: name 'data' is not defined"
     ]
    }
   ],
   "source": [
    "# Q.2 find out the number of times each team emerged as the winner\n",
    "data['winner'].value_counts()"
   ]
  },
  {
   "cell_type": "code",
   "execution_count": null,
   "id": "1491b6d9",
   "metadata": {},
   "outputs": [],
   "source": [
    "#q.3 find out the times the toss winner chose bat and the number of times the winner chose field\n",
    "\n",
    "print(data['toss_decision'].value_counts())"
   ]
  },
  {
   "cell_type": "code",
   "execution_count": null,
   "id": "e54b66fc",
   "metadata": {},
   "outputs": [],
   "source": [
    "#Q.4 replace the toss decision value with bowl_first where toss_decision is field\n",
    "res=data['toss_decision'].where(data['toss_decision']\n",
    "                               'bat','bowl_first')\n",
    "res"
   ]
  },
  {
   "cell_type": "code",
   "execution_count": null,
   "id": "a98c1c9c",
   "metadata": {},
   "outputs": [],
   "source": [
    "#Q.5 sort the dataset in decending order of win by runs and print the column win_by_runs\n",
    "\n",
    "data['win_by_runs'].sort_values(ascending=False).head()"
   ]
  },
  {
   "cell_type": "code",
   "execution_count": null,
   "id": "4580d263",
   "metadata": {},
   "outputs": [],
   "source": [
    "#Q.6 find the date where the winner os royal challengers banglore with runs more than 30\n",
    "r2=data[(data['winner']=='royal challengers banglore')&\n",
    "       (data['win_by_runs']>30)]\n",
    "r2[['date','winner','win_by_runs']]"
   ]
  },
  {
   "cell_type": "code",
   "execution_count": null,
   "id": "aa42f314",
   "metadata": {},
   "outputs": [],
   "source": [
    "#Q.7 find the max win bt runs and win by wickets using the apply function\n",
    " data[['win_by_runs','win_by_wickets']].apply(np.max)"
   ]
  }
 ],
 "metadata": {
  "kernelspec": {
   "display_name": "Python 3 (ipykernel)",
   "language": "python",
   "name": "python3"
  },
  "language_info": {
   "codemirror_mode": {
    "name": "ipython",
    "version": 3
   },
   "file_extension": ".py",
   "mimetype": "text/x-python",
   "name": "python",
   "nbconvert_exporter": "python",
   "pygments_lexer": "ipython3",
   "version": "3.10.9"
  }
 },
 "nbformat": 4,
 "nbformat_minor": 5
}
