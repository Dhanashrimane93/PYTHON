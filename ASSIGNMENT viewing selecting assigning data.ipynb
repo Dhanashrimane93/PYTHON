{
 "cells": [
  {
   "cell_type": "code",
   "execution_count": 2,
   "id": "6668833d",
   "metadata": {},
   "outputs": [],
   "source": [
    "# Q.1 DISPLAY the top five and last five rows of the dataset and return the number of rows and column\n",
    "\n",
    "import pandas as pd \n",
    "import numpy as np"
   ]
  },
  {
   "cell_type": "code",
   "execution_count": null,
   "id": "67c2634f",
   "metadata": {},
   "outputs": [],
   "source": [
    "df.head()\n",
    "df.tail()\n",
    "df.shape"
   ]
  },
  {
   "cell_type": "code",
   "execution_count": null,
   "id": "b6f3a850",
   "metadata": {},
   "outputs": [],
   "source": [
    "# Q.2 rename the column city to hostcity\n",
    "df.rename(columns={'city'.'hostcity'})"
   ]
  },
  {
   "cell_type": "code",
   "execution_count": null,
   "id": "8cd060db",
   "metadata": {},
   "outputs": [],
   "source": [
    "#Q.3 PRINT THE DETAIL ABOUT ALL THE NUMERICAL COLUMNS IN THE DATAFRAME\n",
    "df.describe()"
   ]
  },
  {
   "cell_type": "code",
   "execution_count": null,
   "id": "fccb4691",
   "metadata": {},
   "outputs": [],
   "source": [
    "#Q.4 print the concise summary of the dataframe\n",
    "df.info()"
   ]
  },
  {
   "cell_type": "code",
   "execution_count": 5,
   "id": "f238c63b",
   "metadata": {},
   "outputs": [
    {
     "ename": "NameError",
     "evalue": "name 'df' is not defined",
     "output_type": "error",
     "traceback": [
      "\u001b[1;31m---------------------------------------------------------------------------\u001b[0m",
      "\u001b[1;31mNameError\u001b[0m                                 Traceback (most recent call last)",
      "Cell \u001b[1;32mIn[5], line 2\u001b[0m\n\u001b[0;32m      1\u001b[0m \u001b[38;5;66;03m#Q.5 print the col team 1,team 2,winner and win_by_runs and win_by_wickets\u001b[39;00m\n\u001b[1;32m----> 2\u001b[0m df1\u001b[38;5;241m=\u001b[39m\u001b[43mdf\u001b[49m[[\u001b[38;5;124m'\u001b[39m\u001b[38;5;124mteam1\u001b[39m\u001b[38;5;124m'\u001b[39m,\u001b[38;5;124m'\u001b[39m\u001b[38;5;124mteam2\u001b[39m\u001b[38;5;124m'\u001b[39m,\u001b[38;5;124m'\u001b[39m\u001b[38;5;124mwinner\u001b[39m\u001b[38;5;124m'\u001b[39m,\u001b[38;5;124m'\u001b[39m\u001b[38;5;124mwin_by_runs\u001b[39m\u001b[38;5;124m'\u001b[39m,\u001b[38;5;124m'\u001b[39m\u001b[38;5;124mwin_by_wickets\u001b[39m\u001b[38;5;124m'\u001b[39m]]\n\u001b[0;32m      3\u001b[0m df1\n",
      "\u001b[1;31mNameError\u001b[0m: name 'df' is not defined"
     ]
    }
   ],
   "source": [
    "#Q.5 print the col team 1,team 2,winner and win_by_runs and win_by_wickets\n",
    "df1=df[['team1','team2','winner','win_by_runs','win_by_wickets']]\n",
    "df1\n"
   ]
  },
  {
   "cell_type": "code",
   "execution_count": null,
   "id": "f2774a5e",
   "metadata": {},
   "outputs": [],
   "source": [
    "# Q.6 write the program to extract the first three rows and three columns\n",
    "df.iloc[0:3,0:3]"
   ]
  },
  {
   "cell_type": "code",
   "execution_count": null,
   "id": "0759e6ea",
   "metadata": {},
   "outputs": [],
   "source": [
    "#Q.7 find the mean of win_by_wickets\n",
    " df['win_by_wickets'].mean()"
   ]
  },
  {
   "cell_type": "code",
   "execution_count": null,
   "id": "37bda4b9",
   "metadata": {},
   "outputs": [],
   "source": []
  }
 ],
 "metadata": {
  "kernelspec": {
   "display_name": "Python 3 (ipykernel)",
   "language": "python",
   "name": "python3"
  },
  "language_info": {
   "codemirror_mode": {
    "name": "ipython",
    "version": 3
   },
   "file_extension": ".py",
   "mimetype": "text/x-python",
   "name": "python",
   "nbconvert_exporter": "python",
   "pygments_lexer": "ipython3",
   "version": "3.10.9"
  }
 },
 "nbformat": 4,
 "nbformat_minor": 5
}
