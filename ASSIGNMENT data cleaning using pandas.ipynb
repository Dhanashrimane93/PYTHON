{
 "cells": [
  {
   "cell_type": "code",
   "execution_count": null,
   "id": "bbeb23ef",
   "metadata": {},
   "outputs": [],
   "source": [
    "#Q.1 WRIE THE programe to drop the column  toss_winner\n",
    "data.drop('toss_winner',axis=1).head()"
   ]
  },
  {
   "cell_type": "code",
   "execution_count": null,
   "id": "4b4f6634",
   "metadata": {},
   "outputs": [],
   "source": [
    "#Q.2 rename the column city to host city \n",
    " data.rename(columns={'city':'hostcity'})"
   ]
  },
  {
   "cell_type": "code",
   "execution_count": null,
   "id": "889e284b",
   "metadata": {},
   "outputs": [],
   "source": [
    "#Q.3 write a programe to check the number of null values in all column\n",
    "data.isnull().sum()"
   ]
  },
  {
   "cell_type": "code",
   "execution_count": null,
   "id": "38b3214b",
   "metadata": {},
   "outputs": [],
   "source": [
    "#Q.4 check th enumber of dupllictae \n",
    "data,duplicated().sum()"
   ]
  },
  {
   "cell_type": "code",
   "execution_count": null,
   "id": "6b5877e0",
   "metadata": {},
   "outputs": [],
   "source": [
    "#Q.5 in the city column replace the missing values with unknown and thencheck for missing values\n",
    "\n",
    "data['city'].fillna('unknown',inplace=True)\n",
    "data\n",
    "data.isnull().sum()"
   ]
  },
  {
   "cell_type": "code",
   "execution_count": null,
   "id": "672b8c66",
   "metadata": {},
   "outputs": [],
   "source": [
    "#Q.6 write a programe to change the datatype of column date to datetime and check the same\n",
    "\n",
    "data['date']=pd.to_datetime(data['date'])\n",
    "data.dtypes"
   ]
  },
  {
   "cell_type": "code",
   "execution_count": null,
   "id": "79796fc8",
   "metadata": {},
   "outputs": [],
   "source": [
    "#Q.7 drop the rows with index 1,3 and 9\n",
    "data.drop([1,3,9])"
   ]
  }
 ],
 "metadata": {
  "kernelspec": {
   "display_name": "Python 3 (ipykernel)",
   "language": "python",
   "name": "python3"
  },
  "language_info": {
   "codemirror_mode": {
    "name": "ipython",
    "version": 3
   },
   "file_extension": ".py",
   "mimetype": "text/x-python",
   "name": "python",
   "nbconvert_exporter": "python",
   "pygments_lexer": "ipython3",
   "version": "3.10.9"
  }
 },
 "nbformat": 4,
 "nbformat_minor": 5
}
