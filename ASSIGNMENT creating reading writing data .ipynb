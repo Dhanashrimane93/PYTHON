{
 "cells": [
  {
   "cell_type": "code",
   "execution_count": 4,
   "id": "b944e334",
   "metadata": {},
   "outputs": [
    {
     "name": "stdout",
     "output_type": "stream",
     "text": [
      "10 20\n"
     ]
    }
   ],
   "source": [
    "# Q.1 CREATE A series containing element 5,10,15,20,25 fetch elelment from index position 1 and 3\n",
    "import pandas as pd\n",
    "s1=pd.Series([5,10,15,20,25])\n",
    "print(s1[1],s1[3])"
   ]
  },
  {
   "cell_type": "code",
   "execution_count": null,
   "id": "7ae9744d",
   "metadata": {},
   "outputs": [],
   "source": [
    "#Q.2 Write th ecode to import data using pandas\n",
    "#A. FROM A CSV FILE\n",
    "#B. FROM AN EXCeL FILE\n",
    "\n",
    "df_csv=pd.read_csv('bmi.csv')\n",
    "\n",
    "df_excel=pd.read_excel('bmi.xlsx')\n",
    "\n"
   ]
  },
  {
   "cell_type": "code",
   "execution_count": 9,
   "id": "01d524ce",
   "metadata": {},
   "outputs": [
    {
     "name": "stdout",
     "output_type": "stream",
     "text": [
      "   physics  chemistry  math\n",
      "0       78         84    86\n",
      "1       85         94    97\n",
      "2       86         89    96\n",
      "   physics  chemistry  math\n",
      "0       78         84    86\n",
      "1       85         94    97\n",
      "2       86         89    96\n"
     ]
    }
   ],
   "source": [
    "#Q.3 CREATE THREE column containing marks of subject phy chem and math for three student copy the \n",
    "# dataframe and then display it \n",
    "\n",
    "import pandas as pd\n",
    "import numpy as np\n",
    "\n",
    "df=pd.DataFrame({'physics':[78,85,86],\n",
    "'chemistry':[84,94,89], 'math':[86,97,96]});\n",
    "print(df)\n",
    "\n",
    "df_new=df.copy()\n",
    "print(df_new)"
   ]
  },
  {
   "cell_type": "code",
   "execution_count": 10,
   "id": "0e5e7931",
   "metadata": {},
   "outputs": [
    {
     "name": "stdout",
     "output_type": "stream",
     "text": [
      "<class 'list'>\n",
      "[['pune'], ['indore'], ['mumbai']]\n"
     ]
    }
   ],
   "source": [
    "#Q.4 write a programe to create dataframe of cities using a list of list \n",
    "data2=[['pune'],['indore'],['mumbai']]\n",
    "print(type(data2))\n",
    "print(data2)"
   ]
  },
  {
   "cell_type": "code",
   "execution_count": null,
   "id": "df8dd2b2",
   "metadata": {},
   "outputs": [],
   "source": []
  }
 ],
 "metadata": {
  "kernelspec": {
   "display_name": "Python 3 (ipykernel)",
   "language": "python",
   "name": "python3"
  },
  "language_info": {
   "codemirror_mode": {
    "name": "ipython",
    "version": 3
   },
   "file_extension": ".py",
   "mimetype": "text/x-python",
   "name": "python",
   "nbconvert_exporter": "python",
   "pygments_lexer": "ipython3",
   "version": "3.10.9"
  }
 },
 "nbformat": 4,
 "nbformat_minor": 5
}
