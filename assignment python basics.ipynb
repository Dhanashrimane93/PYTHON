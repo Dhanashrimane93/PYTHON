{
 "cells": [
  {
   "cell_type": "code",
   "execution_count": 2,
   "id": "a3af234d",
   "metadata": {},
   "outputs": [
    {
     "name": "stdout",
     "output_type": "stream",
     "text": [
      "89\n",
      "1924\n"
     ]
    }
   ],
   "source": [
    " #Q.1 sum of j and k and product of j and k\n",
    "j=37\n",
    "k=52\n",
    "print(j+k)\n",
    "print(j*k)"
   ]
  },
  {
   "cell_type": "code",
   "execution_count": 1,
   "id": "35506bbe",
   "metadata": {},
   "outputs": [
    {
     "name": "stdout",
     "output_type": "stream",
     "text": [
      "number of minutes in a year= 525600\n"
     ]
    }
   ],
   "source": [
    "#Q.2 calculate number of minutes in year\n",
    "days=365\n",
    "hours=24\n",
    "mins=60\n",
    "mins_in_year=days*hours*mins\n",
    "print(\"number of minutes in a year=\",mins_in_year)\n"
   ]
  },
  {
   "cell_type": "code",
   "execution_count": 2,
   "id": "9024af38",
   "metadata": {},
   "outputs": [
    {
     "name": "stdout",
     "output_type": "stream",
     "text": [
      "13\n"
     ]
    }
   ],
   "source": [
    "#addition\n",
    "a=6\n",
    "b=7\n",
    "print(a+b)"
   ]
  },
  {
   "cell_type": "code",
   "execution_count": 3,
   "id": "08daeb5c",
   "metadata": {},
   "outputs": [
    {
     "name": "stdout",
     "output_type": "stream",
     "text": [
      "-1\n"
     ]
    }
   ],
   "source": [
    "#subtraction\n",
    "a=6\n",
    "b=7\n",
    "print(a-b)"
   ]
  },
  {
   "cell_type": "code",
   "execution_count": 6,
   "id": "e7eedfeb",
   "metadata": {},
   "outputs": [
    {
     "name": "stdout",
     "output_type": "stream",
     "text": [
      "division= 0.8571428571428571\n",
      "multipication= 42\n",
      "floor_division= 0\n",
      "modulus= 6\n",
      "exponetial= 279936\n"
     ]
    }
   ],
   "source": [
    "#division\n",
    "a=6\n",
    "b=7\n",
    "print(\"division=\",a/b)\n",
    "print(\"multipication=\",a*b)\n",
    "print(\"floor_division=\",a//b)\n",
    "print(\"modulus=\",a%b)\n",
    "print(\"exponetial=\",a**b)"
   ]
  },
  {
   "cell_type": "code",
   "execution_count": 1,
   "id": "f683d473",
   "metadata": {},
   "outputs": [
    {
     "name": "stdout",
     "output_type": "stream",
     "text": [
      "23\n",
      "5 girls \n",
      "3 boys in class\n"
     ]
    }
   ],
   "source": [
    "batch=\"5 girls 3 boys in class\" \n",
    "print(len(batch))\n",
    "#code to get 5 girls from the string\n",
    "girls=batch[0:8]\n",
    "print(girls)\n",
    "#code to get 3 boys in class\n",
    "print(batch[8:])"
   ]
  },
  {
   "cell_type": "code",
   "execution_count": 2,
   "id": "e1677252",
   "metadata": {},
   "outputs": [
    {
     "name": "stdout",
     "output_type": "stream",
     "text": [
      "kbeydA\n",
      "SilAaey\n"
     ]
    }
   ],
   "source": [
    "#write code to get these output\n",
    "#a.kbeydA\n",
    "#b.SilAaey\n",
    "s=\"Skill Academy testbook\"\n",
    "print(s[-1:5:-3])\n",
    "print(s[0:13:2])"
   ]
  },
  {
   "cell_type": "code",
   "execution_count": 3,
   "id": "91d8c24b",
   "metadata": {},
   "outputs": [
    {
     "name": "stdout",
     "output_type": "stream",
     "text": [
      "$$$$$$$$$$$$$$$$$$$$\n"
     ]
    }
   ],
   "source": [
    "s=\"$\"\n",
    "print(s*20)\n"
   ]
  },
  {
   "cell_type": "code",
   "execution_count": 11,
   "id": "73be2cc9",
   "metadata": {},
   "outputs": [
    {
     "name": "stdout",
     "output_type": "stream",
     "text": [
      "enter the first number45\n",
      "enter the second number2\n",
      "222222222222222222222222222222222222222222222\n"
     ]
    }
   ],
   "source": [
    "#Q.7 take input of the first number and store it in variable\n",
    "num_1=input(\"enter the first number\")\n",
    "# take input of the second number and store it in variable\n",
    "num_2=input(\"enter the second number\")\n",
    "product=(int(num_1)*(num_2))\n",
    "print(product)"
   ]
  },
  {
   "cell_type": "code",
   "execution_count": 5,
   "id": "8045c402",
   "metadata": {},
   "outputs": [
    {
     "name": "stdout",
     "output_type": "stream",
     "text": [
      "welcome to data science with pythoncoding practice session\n"
     ]
    }
   ],
   "source": [
    "#Q.8 concatenate and print the result\n",
    "string1=(\"welcome to data science with python\")\n",
    "string2=(\"coding practice session\")\n",
    "print(string1+ string2)"
   ]
  },
  {
   "cell_type": "code",
   "execution_count": null,
   "id": "f11a3af9",
   "metadata": {},
   "outputs": [],
   "source": []
  }
 ],
 "metadata": {
  "kernelspec": {
   "display_name": "Python 3 (ipykernel)",
   "language": "python",
   "name": "python3"
  },
  "language_info": {
   "codemirror_mode": {
    "name": "ipython",
    "version": 3
   },
   "file_extension": ".py",
   "mimetype": "text/x-python",
   "name": "python",
   "nbconvert_exporter": "python",
   "pygments_lexer": "ipython3",
   "version": "3.10.9"
  }
 },
 "nbformat": 4,
 "nbformat_minor": 5
}
