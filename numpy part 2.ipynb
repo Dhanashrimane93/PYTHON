{
 "cells": [
  {
   "cell_type": "code",
   "execution_count": 2,
   "id": "ab29a7a0",
   "metadata": {},
   "outputs": [],
   "source": [
    "import numpy as np\n",
    "#np is the alias name "
   ]
  },
  {
   "cell_type": "code",
   "execution_count": 4,
   "id": "c094ed40",
   "metadata": {},
   "outputs": [
    {
     "name": "stdout",
     "output_type": "stream",
     "text": [
      "[3.  4.  5.7 8. ]\n"
     ]
    }
   ],
   "source": [
    "a1=np.array([3,4,5.7,8])\n",
    "print(a1)"
   ]
  },
  {
   "cell_type": "code",
   "execution_count": 7,
   "id": "725d1f02",
   "metadata": {},
   "outputs": [
    {
     "name": "stdout",
     "output_type": "stream",
     "text": [
      "['hello' '4' '5.7' '8']\n",
      "<U32\n"
     ]
    }
   ],
   "source": [
    "a2=np.array(['hello',4,5.7,8])\n",
    "print(a2)\n",
    "print(a2.dtype)"
   ]
  },
  {
   "cell_type": "code",
   "execution_count": 11,
   "id": "4c3aadbe",
   "metadata": {},
   "outputs": [
    {
     "name": "stdout",
     "output_type": "stream",
     "text": [
      "a [3 4 5 6 7] dim 1\n",
      "b 2 dim 0\n",
      "[ 6  8 10 12 14]\n"
     ]
    }
   ],
   "source": [
    "# numpy broadcasting\n",
    "\n",
    "a=np.array([3,4,5,6,7])\n",
    "b=np.array(2)\n",
    "print('a',a,'dim',a.ndim)\n",
    "print('b',b,'dim',b.ndim)\n",
    "print(a*b)"
   ]
  },
  {
   "cell_type": "code",
   "execution_count": null,
   "id": "297eeb72",
   "metadata": {},
   "outputs": [],
   "source": []
  },
  {
   "cell_type": "code",
   "execution_count": 4,
   "id": "48044c37",
   "metadata": {},
   "outputs": [
    {
     "name": "stdout",
     "output_type": "stream",
     "text": [
      "a\n",
      " [[1 2 3]\n",
      " [4 5 6]] dim 2\n",
      "b\n",
      " [-1  0  1] dim 1\n",
      "a*b\n",
      " [[-1  0  3]\n",
      " [-4  0  6]]\n"
     ]
    }
   ],
   "source": [
    "a=np.array([[1,2,3],[4,5,6]])\n",
    "b=np.array([-1,0,1])\n",
    "print('a\\n',a,'dim',a.ndim)\n",
    "print('b\\n',b,'dim',b.ndim)\n",
    "print('a*b\\n',a*b)"
   ]
  },
  {
   "cell_type": "code",
   "execution_count": 5,
   "id": "f34b0a7f",
   "metadata": {},
   "outputs": [
    {
     "name": "stdout",
     "output_type": "stream",
     "text": [
      "a\n",
      " [[1 2 3]\n",
      " [4 5 6]] dim 2\n",
      "b\n",
      " [[ 5 -4  2]\n",
      " [-2  3 -1]] dim 2\n",
      "a*b\n",
      " [[ 5 -8  6]\n",
      " [-8 15 -6]]\n"
     ]
    }
   ],
   "source": [
    "a=np.array([[1,2,3],[4,5,6]])\n",
    "b=np.array([[5,-4,2],[-2,3,-1]])\n",
    "print('a\\n',a,'dim',a.ndim)\n",
    "print('b\\n',b,'dim',b.ndim)\n",
    "print('a*b\\n',a*b)"
   ]
  },
  {
   "cell_type": "code",
   "execution_count": 7,
   "id": "4aa3e956",
   "metadata": {},
   "outputs": [
    {
     "name": "stdout",
     "output_type": "stream",
     "text": [
      "[ 2.  4.  6.  8. 10.]\n",
      "[ 2  6 10]\n",
      "[ 5.   7.5 10.  12.5 15.  17.5 20. ]\n",
      "[ 5  7 10 12 15 17 20]\n"
     ]
    }
   ],
   "source": [
    "# np.linspace()\n",
    "\n",
    "z1=np.linspace(2,10,5)\n",
    "print(z1)\n",
    "z2=np.linspace(2,10,3,dtype='int')\n",
    "print(z2)\n",
    "s1=np.linspace(5,20,7)\n",
    "print(s1)\n",
    "s1=np.linspace(5,20,7,dtype=int)\n",
    "print(s1)"
   ]
  },
  {
   "cell_type": "code",
   "execution_count": 8,
   "id": "75b76250",
   "metadata": {},
   "outputs": [
    {
     "name": "stdout",
     "output_type": "stream",
     "text": [
      "[ 4.   6.6  9.2 11.8 14.4 17. ]\n"
     ]
    }
   ],
   "source": [
    "z1=np.linspace(4,17,6)\n",
    "print(z1)"
   ]
  },
  {
   "cell_type": "code",
   "execution_count": 9,
   "id": "f97af9ed",
   "metadata": {},
   "outputs": [
    {
     "name": "stdout",
     "output_type": "stream",
     "text": [
      "[ 2.          2.36734694  2.73469388  3.10204082  3.46938776  3.83673469\n",
      "  4.20408163  4.57142857  4.93877551  5.30612245  5.67346939  6.04081633\n",
      "  6.40816327  6.7755102   7.14285714  7.51020408  7.87755102  8.24489796\n",
      "  8.6122449   8.97959184  9.34693878  9.71428571 10.08163265 10.44897959\n",
      " 10.81632653 11.18367347 11.55102041 11.91836735 12.28571429 12.65306122\n",
      " 13.02040816 13.3877551  13.75510204 14.12244898 14.48979592 14.85714286\n",
      " 15.2244898  15.59183673 15.95918367 16.32653061 16.69387755 17.06122449\n",
      " 17.42857143 17.79591837 18.16326531 18.53061224 18.89795918 19.26530612\n",
      " 19.63265306 20.        ]\n",
      "<class 'numpy.ndarray'>\n",
      "50\n"
     ]
    }
   ],
   "source": [
    "z4=np.linspace(2,20)\n",
    "print(z4)\n",
    "print(type(z4))\n",
    "print(len(z4))"
   ]
  },
  {
   "cell_type": "code",
   "execution_count": 3,
   "id": "f7a99057",
   "metadata": {},
   "outputs": [
    {
     "ename": "AttributeError",
     "evalue": "module 'numpy' has no attribute 'linsapce'",
     "output_type": "error",
     "traceback": [
      "\u001b[1;31m---------------------------------------------------------------------------\u001b[0m",
      "\u001b[1;31mAttributeError\u001b[0m                            Traceback (most recent call last)",
      "Cell \u001b[1;32mIn[3], line 1\u001b[0m\n\u001b[1;32m----> 1\u001b[0m w \u001b[38;5;241m=\u001b[39m \u001b[43mnp\u001b[49m\u001b[38;5;241;43m.\u001b[39;49m\u001b[43mlinsapce\u001b[49m(\u001b[38;5;241m5\u001b[39m,\u001b[38;5;241m20\u001b[39m,\u001b[38;5;241m7\u001b[39m,retstep\u001b[38;5;241m=\u001b[39m\u001b[38;5;28;01mTrue\u001b[39;00m)\n\u001b[0;32m      2\u001b[0m \u001b[38;5;28mprint\u001b[39m(w)\n",
      "File \u001b[1;32m~\\anaconda3\\lib\\site-packages\\numpy\\__init__.py:311\u001b[0m, in \u001b[0;36m__getattr__\u001b[1;34m(attr)\u001b[0m\n\u001b[0;32m    308\u001b[0m     \u001b[38;5;28;01mfrom\u001b[39;00m \u001b[38;5;21;01m.\u001b[39;00m\u001b[38;5;21;01mtesting\u001b[39;00m \u001b[38;5;28;01mimport\u001b[39;00m Tester\n\u001b[0;32m    309\u001b[0m     \u001b[38;5;28;01mreturn\u001b[39;00m Tester\n\u001b[1;32m--> 311\u001b[0m \u001b[38;5;28;01mraise\u001b[39;00m \u001b[38;5;167;01mAttributeError\u001b[39;00m(\u001b[38;5;124m\"\u001b[39m\u001b[38;5;124mmodule \u001b[39m\u001b[38;5;132;01m{!r}\u001b[39;00m\u001b[38;5;124m has no attribute \u001b[39m\u001b[38;5;124m\"\u001b[39m\n\u001b[0;32m    312\u001b[0m                      \u001b[38;5;124m\"\u001b[39m\u001b[38;5;132;01m{!r}\u001b[39;00m\u001b[38;5;124m\"\u001b[39m\u001b[38;5;241m.\u001b[39mformat(\u001b[38;5;18m__name__\u001b[39m, attr))\n",
      "\u001b[1;31mAttributeError\u001b[0m: module 'numpy' has no attribute 'linsapce'"
     ]
    }
   ],
   "source": [
    "w = np.linsapce(5,20,7,retstep=True)\n",
    "print(w)"
   ]
  },
  {
   "cell_type": "code",
   "execution_count": 13,
   "id": "8defea86",
   "metadata": {},
   "outputs": [
    {
     "name": "stdout",
     "output_type": "stream",
     "text": [
      "a1\n",
      " [1 2 3 4 5] shape (5,)\n",
      "x\n",
      " [1 2 3 4 5]\n",
      "a1\n",
      " [50  2  3  4  5]\n",
      "x\n",
      " [1 2 3 4 5]\n"
     ]
    }
   ],
   "source": [
    "# view vs copy\n",
    "a1=np.array([1,2,3,4,5])\n",
    "x=a1.copy()\n",
    "print('a1\\n',a1,'shape',a1.shape)\n",
    "print('x\\n',x)\n",
    "a1[0]=50\n",
    "print('a1\\n',a1)\n",
    "print('x\\n',x)"
   ]
  },
  {
   "cell_type": "code",
   "execution_count": 14,
   "id": "a423043b",
   "metadata": {},
   "outputs": [
    {
     "name": "stdout",
     "output_type": "stream",
     "text": [
      "a1\n",
      " [1 2 3 4 5]\n",
      "y\n",
      " [1 2 3 4 5]\n",
      "a2\n",
      " [50  2  3  4  5]\n",
      "y\n",
      " [50  2  3  4  5]\n"
     ]
    }
   ],
   "source": [
    "a2=np.array([1,2,3,4,5])\n",
    "y=a2.view()\n",
    "print('a1\\n',a2)\n",
    "print('y\\n',y)\n",
    "a2[0]=50\n",
    "print('a2\\n',a2)\n",
    "print('y\\n',y)"
   ]
  },
  {
   "cell_type": "code",
   "execution_count": 16,
   "id": "f27a2368",
   "metadata": {
    "scrolled": true
   },
   "outputs": [
    {
     "name": "stdout",
     "output_type": "stream",
     "text": [
      "[0.42450187 0.87420266 0.30061072 0.14114609 0.37358111]\n",
      "[[0.81150283 0.47852156 0.76480117 0.87501742]\n",
      " [0.93309161 0.18560243 0.1536424  0.28419436]\n",
      " [0.25597233 0.84319573 0.26896404 0.04628089]]\n"
     ]
    }
   ],
   "source": [
    " #1. numpy random numbers\n",
    "a1=np.random.random(5)\n",
    "print(a1)\n",
    "a2=np.random.random((3,4))\n",
    "print(a2)"
   ]
  },
  {
   "cell_type": "code",
   "execution_count": 20,
   "id": "5e4fa3e7",
   "metadata": {},
   "outputs": [
    {
     "name": "stdout",
     "output_type": "stream",
     "text": [
      "[10 12 10  5]\n",
      "[82 61 81 63 69 79 51 53]\n"
     ]
    },
    {
     "ename": "ValueError",
     "evalue": "low >= high",
     "output_type": "error",
     "traceback": [
      "\u001b[1;31m---------------------------------------------------------------------------\u001b[0m",
      "\u001b[1;31mValueError\u001b[0m                                Traceback (most recent call last)",
      "Cell \u001b[1;32mIn[20], line 7\u001b[0m\n\u001b[0;32m      5\u001b[0m a4\u001b[38;5;241m=\u001b[39mnp\u001b[38;5;241m.\u001b[39mrandom\u001b[38;5;241m.\u001b[39mrandint(\u001b[38;5;241m50\u001b[39m,\u001b[38;5;241m100\u001b[39m,\u001b[38;5;241m8\u001b[39m)\n\u001b[0;32m      6\u001b[0m \u001b[38;5;28mprint\u001b[39m(a4)\n\u001b[1;32m----> 7\u001b[0m a5\u001b[38;5;241m=\u001b[39m\u001b[43mnp\u001b[49m\u001b[38;5;241;43m.\u001b[39;49m\u001b[43mrandom\u001b[49m\u001b[38;5;241;43m.\u001b[39;49m\u001b[43mrandint\u001b[49m\u001b[43m(\u001b[49m\u001b[38;5;241;43m20\u001b[39;49m\u001b[43m,\u001b[49m\u001b[38;5;241;43m5\u001b[39;49m\u001b[43m,\u001b[49m\u001b[38;5;241;43m4\u001b[39;49m\u001b[43m)\u001b[49m\n\u001b[0;32m      8\u001b[0m \u001b[38;5;28mprint\u001b[39m(a5)\n",
      "File \u001b[1;32mmtrand.pyx:746\u001b[0m, in \u001b[0;36mnumpy.random.mtrand.RandomState.randint\u001b[1;34m()\u001b[0m\n",
      "File \u001b[1;32m_bounded_integers.pyx:1338\u001b[0m, in \u001b[0;36mnumpy.random._bounded_integers._rand_int32\u001b[1;34m()\u001b[0m\n",
      "\u001b[1;31mValueError\u001b[0m: low >= high"
     ]
    }
   ],
   "source": [
    "#2.p.random.randint\n",
    "\n",
    "a3=np.random.randint( 3,15,4)\n",
    "print(a3)\n",
    "a4=np.random.randint(50,100,8)\n",
    "print(a4)\n",
    "a5=np.random.randint(20,5,4)# error low /high\n",
    "print(a5)"
   ]
  },
  {
   "cell_type": "code",
   "execution_count": 22,
   "id": "a5421295",
   "metadata": {},
   "outputs": [
    {
     "name": "stdout",
     "output_type": "stream",
     "text": [
      "[[30 23 31 37]\n",
      " [37 46 18 31]\n",
      " [29 30 30 39]]\n"
     ]
    }
   ],
   "source": [
    "a5=np.random.randint(10,50,(3,4))\n",
    "print(a5)"
   ]
  },
  {
   "cell_type": "code",
   "execution_count": 24,
   "id": "734da051",
   "metadata": {},
   "outputs": [
    {
     "name": "stdout",
     "output_type": "stream",
     "text": [
      "[0.84714064 0.77570638 0.82923035 0.48112431 0.23917525]\n",
      "[[0.72591254 0.98566268]\n",
      " [0.662668   0.0903603 ]\n",
      " [0.58460226 0.56024066]\n",
      " [0.62648299 0.89104086]]\n",
      "[[0.48253877 0.49717966]\n",
      " [0.4112882  0.06894522]\n",
      " [0.53994393 0.47784895]\n",
      " [0.9994031  0.70708836]]\n"
     ]
    }
   ],
   "source": [
    "# 3.np.random.rand()\n",
    "w1=np.random.rand(5)\n",
    "print(w1)\n",
    "w2=np.random.rand(4,2)\n",
    "print(w2)\n",
    "w3=np.random.random((4,2))\n",
    "print(w3)"
   ]
  },
  {
   "cell_type": "code",
   "execution_count": 27,
   "id": "60c4b6ab",
   "metadata": {},
   "outputs": [
    {
     "name": "stdout",
     "output_type": "stream",
     "text": [
      "[6 3 6 7]\n"
     ]
    }
   ],
   "source": [
    "#4. np.random.choice\n",
    "\n",
    "w1=np.random.choice([3,9,15,6,7,8],size=4)\n",
    "print(w1)"
   ]
  },
  {
   "cell_type": "code",
   "execution_count": 28,
   "id": "7e52b156",
   "metadata": {},
   "outputs": [
    {
     "name": "stdout",
     "output_type": "stream",
     "text": [
      "[ 7  9 11  8]\n"
     ]
    }
   ],
   "source": [
    "w2=np.random.choice([3,9,15,6,7,8,13,15,11,12,10],size=4)\n",
    "print(w2)"
   ]
  },
  {
   "cell_type": "code",
   "execution_count": null,
   "id": "76658790",
   "metadata": {},
   "outputs": [],
   "source": []
  }
 ],
 "metadata": {
  "kernelspec": {
   "display_name": "Python 3 (ipykernel)",
   "language": "python",
   "name": "python3"
  },
  "language_info": {
   "codemirror_mode": {
    "name": "ipython",
    "version": 3
   },
   "file_extension": ".py",
   "mimetype": "text/x-python",
   "name": "python",
   "nbconvert_exporter": "python",
   "pygments_lexer": "ipython3",
   "version": "3.10.9"
  }
 },
 "nbformat": 4,
 "nbformat_minor": 5
}
