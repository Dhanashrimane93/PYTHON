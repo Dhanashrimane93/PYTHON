{
 "cells": [
  {
   "cell_type": "code",
   "execution_count": 1,
   "id": "8a5a3cc6",
   "metadata": {},
   "outputs": [],
   "source": [
    "import numpy as np"
   ]
  },
  {
   "cell_type": "code",
   "execution_count": 4,
   "id": "46fd0268",
   "metadata": {},
   "outputs": [
    {
     "name": "stdout",
     "output_type": "stream",
     "text": [
      "[12 13 14 15]\n",
      "1\n",
      "(4,)\n",
      "[18 19 20 21 22]\n",
      "1\n",
      "(5,)\n"
     ]
    }
   ],
   "source": [
    "# 1. np.concatenate()\n",
    "w1=np.array([12,13,14,15])\n",
    "print(w1)\n",
    "print(w1.ndim)\n",
    "print(w1.shape)\n",
    "w2=np.array([18,19,20,21,22])\n",
    "print(w2)\n",
    "print(w2.ndim)\n",
    "print(w2.shape)"
   ]
  },
  {
   "cell_type": "code",
   "execution_count": 5,
   "id": "1587ca23",
   "metadata": {},
   "outputs": [
    {
     "name": "stdout",
     "output_type": "stream",
     "text": [
      "[12 13 14 15 18 19 20 21 22]\n",
      "[18 19 20 21 22 12 13 14 15]\n"
     ]
    }
   ],
   "source": [
    "r1=np.concatenate([w1,w2])\n",
    "print(r1)\n",
    "r2=np.concatenate([w2,w1])\n",
    "print(r2)"
   ]
  },
  {
   "cell_type": "code",
   "execution_count": 7,
   "id": "184d38d7",
   "metadata": {},
   "outputs": [
    {
     "name": "stdout",
     "output_type": "stream",
     "text": [
      "[[1 2 3]\n",
      " [4 5 6]]\n",
      "[[ 7  8  9]\n",
      " [10 11 12]]\n",
      "(2, 3) (2, 3)\n",
      "2 2\n"
     ]
    }
   ],
   "source": [
    "d1=np.array([[1,2,3],[4,5,6]])\n",
    "d2=np.array([[7,8,9],[10,11,12]])\n",
    "print(d1)\n",
    "print(d2)\n",
    "print(d1.shape,d2.shape)\n",
    "print(d1.ndim,d2.ndim)"
   ]
  },
  {
   "cell_type": "code",
   "execution_count": 8,
   "id": "4b0b5880",
   "metadata": {},
   "outputs": [
    {
     "name": "stdout",
     "output_type": "stream",
     "text": [
      "[[ 1  2  3]\n",
      " [ 4  5  6]\n",
      " [ 7  8  9]\n",
      " [10 11 12]]\n",
      "[[ 1  2  3  7  8  9]\n",
      " [ 4  5  6 10 11 12]]\n"
     ]
    }
   ],
   "source": [
    "r2=np.concatenate([d1,d2],axis=0) #col wise append\n",
    "# no new col. are created rather new rows are created\n",
    "print(r2)\n",
    "r3=np.concatenate([d1,d2],axis=1)  # row wise append\n",
    "# no new rows are created rathers columns are created\n",
    "print(r3)"
   ]
  },
  {
   "cell_type": "code",
   "execution_count": 9,
   "id": "b2f4447b",
   "metadata": {},
   "outputs": [
    {
     "name": "stdout",
     "output_type": "stream",
     "text": [
      "[[1 2 3]\n",
      " [4 5 6]]\n",
      "(2, 3)\n",
      "[[-4 -2  0]\n",
      " [ 7  9  2]]\n",
      "(2, 3)\n"
     ]
    }
   ],
   "source": [
    "#2 np.vstack and np.hstack\n",
    "\n",
    "z1=np.array([[1,2,3],[4,5,6]])\n",
    "z2=np.array([[-4,-2,0],[7,9,2]])\n",
    "print(z1)\n",
    "print(z1.shape)\n",
    "print(z2)\n",
    "print(z2.shape)"
   ]
  },
  {
   "cell_type": "code",
   "execution_count": 11,
   "id": "c8546a60",
   "metadata": {},
   "outputs": [
    {
     "name": "stdout",
     "output_type": "stream",
     "text": [
      "[[ 1  2  3 -4 -2  0]\n",
      " [ 4  5  6  7  9  2]]\n",
      "[[ 1  2  3]\n",
      " [ 4  5  6]\n",
      " [-4 -2  0]\n",
      " [ 7  9  2]]\n"
     ]
    }
   ],
   "source": [
    "r1=np.hstack([z1,z2])\n",
    "# no ne rows are created\n",
    "r2=np.vstack([z1,z2])\n",
    "# no new columns are created\n",
    "print(r1)\n",
    "print(r2)"
   ]
  },
  {
   "cell_type": "code",
   "execution_count": 13,
   "id": "c4d6755c",
   "metadata": {},
   "outputs": [
    {
     "name": "stdout",
     "output_type": "stream",
     "text": [
      "[1 2 3 4 5 6 7 8]\n",
      "[array([1, 2, 3, 4]), array([5, 6, 7, 8])]\n"
     ]
    }
   ],
   "source": [
    "# 3 np.hsplit() and np.vsplit()\n",
    "\n",
    "t=np.arange(1,9)\n",
    "print(t)\n",
    "res1=np.hsplit(t,2)\n",
    "print(res1)"
   ]
  },
  {
   "cell_type": "code",
   "execution_count": 15,
   "id": "7168962e",
   "metadata": {},
   "outputs": [
    {
     "name": "stdout",
     "output_type": "stream",
     "text": [
      "[[ 1  2  3  4]\n",
      " [ 5  6  7  8]\n",
      " [ 9 10 11 12]\n",
      " [13 14 15 16]]\n",
      "(4, 4)\n"
     ]
    }
   ],
   "source": [
    "w1=np.array([[1,2,3,4],[5,6,7,8],[9,10,11,12],[13,14,15,16]])\n",
    "print(w1)\n",
    "print(w1.shape)"
   ]
  },
  {
   "cell_type": "code",
   "execution_count": 16,
   "id": "6aae8c94",
   "metadata": {},
   "outputs": [
    {
     "name": "stdout",
     "output_type": "stream",
     "text": [
      "[array([[ 1,  2],\n",
      "       [ 5,  6],\n",
      "       [ 9, 10],\n",
      "       [13, 14]]), array([[ 3,  4],\n",
      "       [ 7,  8],\n",
      "       [11, 12],\n",
      "       [15, 16]])]\n"
     ]
    }
   ],
   "source": [
    "d1=np.hsplit(w1,2)\n",
    "print(d1)"
   ]
  },
  {
   "cell_type": "code",
   "execution_count": 17,
   "id": "c96e4278",
   "metadata": {},
   "outputs": [
    {
     "name": "stdout",
     "output_type": "stream",
     "text": [
      "[[ 1  2  3  4]\n",
      " [ 5  6  7  8]\n",
      " [ 9 10 11 12]\n",
      " [13 14 15 16]]\n"
     ]
    }
   ],
   "source": [
    "print(w1)"
   ]
  },
  {
   "cell_type": "code",
   "execution_count": 18,
   "id": "ab8e1522",
   "metadata": {},
   "outputs": [
    {
     "name": "stdout",
     "output_type": "stream",
     "text": [
      "[array([[1, 2, 3, 4],\n",
      "       [5, 6, 7, 8]]), array([[ 9, 10, 11, 12],\n",
      "       [13, 14, 15, 16]])]\n"
     ]
    }
   ],
   "source": [
    "np.array\n",
    "r2=np.vsplit(w1,2)\n",
    "print(r2)"
   ]
  },
  {
   "cell_type": "code",
   "execution_count": null,
   "id": "c586d1c1",
   "metadata": {},
   "outputs": [],
   "source": []
  }
 ],
 "metadata": {
  "kernelspec": {
   "display_name": "Python 3 (ipykernel)",
   "language": "python",
   "name": "python3"
  },
  "language_info": {
   "codemirror_mode": {
    "name": "ipython",
    "version": 3
   },
   "file_extension": ".py",
   "mimetype": "text/x-python",
   "name": "python",
   "nbconvert_exporter": "python",
   "pygments_lexer": "ipython3",
   "version": "3.10.9"
  }
 },
 "nbformat": 4,
 "nbformat_minor": 5
}
